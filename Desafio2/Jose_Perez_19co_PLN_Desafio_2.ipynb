{
  "nbformat": 4,
  "nbformat_minor": 0,
  "metadata": {
    "colab": {
      "provenance": [],
      "gpuType": "T4"
    },
    "kernelspec": {
      "name": "python3",
      "display_name": "Python 3"
    },
    "language_info": {
      "name": "python"
    },
    "accelerator": "GPU"
  },
  "cells": [
    {
      "cell_type": "markdown",
      "source": [
        "# Desafío 2 - PLN - 19 cohorte\n",
        "\n",
        "**Alumno**: Jose Perez (joseperez190498@gmail.com)"
      ],
      "metadata": {
        "id": "kyQpU6KRvaRZ"
      }
    },
    {
      "cell_type": "markdown",
      "source": [
        "##**Resolución de la consigna**\n",
        "\n"
      ],
      "metadata": {
        "id": "n_RSK_PXve_v"
      }
    },
    {
      "cell_type": "markdown",
      "source": [
        "### Dataset\n",
        "\n",
        "El dataset utilizado para la resolución de la consigna ha sido descargado de: https://www.kaggle.com/datasets/josemamuiz/noticias-laraznpblico. Este dataset contiene noticias extraídas de los diarios *La Razón* y *Público* de España, categorizados en *Economía*, *Igualdad*, *Política*, *Cultura* y *España*\n",
        "\n"
      ],
      "metadata": {
        "id": "wG9_YztxSBcU"
      }
    },
    {
      "cell_type": "code",
      "source": [
        "# Instalación de librerías\n",
        "!pip install pandas gensim scikit-learn plotly nltk"
      ],
      "metadata": {
        "colab": {
          "base_uri": "https://localhost:8080/"
        },
        "id": "PBaE8MMxQriI",
        "outputId": "949072e0-b74a-4444-9c97-99e61ee73fbe"
      },
      "execution_count": null,
      "outputs": [
        {
          "output_type": "stream",
          "name": "stdout",
          "text": [
            "Requirement already satisfied: pandas in /usr/local/lib/python3.11/dist-packages (2.2.2)\n",
            "Collecting gensim\n",
            "  Downloading gensim-4.3.3-cp311-cp311-manylinux_2_17_x86_64.manylinux2014_x86_64.whl.metadata (8.1 kB)\n",
            "Requirement already satisfied: scikit-learn in /usr/local/lib/python3.11/dist-packages (1.6.1)\n",
            "Requirement already satisfied: plotly in /usr/local/lib/python3.11/dist-packages (5.24.1)\n",
            "Requirement already satisfied: nltk in /usr/local/lib/python3.11/dist-packages (3.9.1)\n",
            "Requirement already satisfied: numpy>=1.23.2 in /usr/local/lib/python3.11/dist-packages (from pandas) (2.0.2)\n",
            "Requirement already satisfied: python-dateutil>=2.8.2 in /usr/local/lib/python3.11/dist-packages (from pandas) (2.9.0.post0)\n",
            "Requirement already satisfied: pytz>=2020.1 in /usr/local/lib/python3.11/dist-packages (from pandas) (2025.2)\n",
            "Requirement already satisfied: tzdata>=2022.7 in /usr/local/lib/python3.11/dist-packages (from pandas) (2025.2)\n",
            "Collecting numpy>=1.23.2 (from pandas)\n",
            "  Downloading numpy-1.26.4-cp311-cp311-manylinux_2_17_x86_64.manylinux2014_x86_64.whl.metadata (61 kB)\n",
            "\u001b[2K     \u001b[90m━━━━━━━━━━━━━━━━━━━━━━━━━━━━━━━━━━━━━━━━\u001b[0m \u001b[32m61.0/61.0 kB\u001b[0m \u001b[31m2.7 MB/s\u001b[0m eta \u001b[36m0:00:00\u001b[0m\n",
            "\u001b[?25hCollecting scipy<1.14.0,>=1.7.0 (from gensim)\n",
            "  Downloading scipy-1.13.1-cp311-cp311-manylinux_2_17_x86_64.manylinux2014_x86_64.whl.metadata (60 kB)\n",
            "\u001b[2K     \u001b[90m━━━━━━━━━━━━━━━━━━━━━━━━━━━━━━━━━━━━━━━━\u001b[0m \u001b[32m60.6/60.6 kB\u001b[0m \u001b[31m2.3 MB/s\u001b[0m eta \u001b[36m0:00:00\u001b[0m\n",
            "\u001b[?25hRequirement already satisfied: smart-open>=1.8.1 in /usr/local/lib/python3.11/dist-packages (from gensim) (7.3.0.post1)\n",
            "Requirement already satisfied: joblib>=1.2.0 in /usr/local/lib/python3.11/dist-packages (from scikit-learn) (1.5.1)\n",
            "Requirement already satisfied: threadpoolctl>=3.1.0 in /usr/local/lib/python3.11/dist-packages (from scikit-learn) (3.6.0)\n",
            "Requirement already satisfied: tenacity>=6.2.0 in /usr/local/lib/python3.11/dist-packages (from plotly) (8.5.0)\n",
            "Requirement already satisfied: packaging in /usr/local/lib/python3.11/dist-packages (from plotly) (25.0)\n",
            "Requirement already satisfied: click in /usr/local/lib/python3.11/dist-packages (from nltk) (8.2.1)\n",
            "Requirement already satisfied: regex>=2021.8.3 in /usr/local/lib/python3.11/dist-packages (from nltk) (2024.11.6)\n",
            "Requirement already satisfied: tqdm in /usr/local/lib/python3.11/dist-packages (from nltk) (4.67.1)\n",
            "Requirement already satisfied: six>=1.5 in /usr/local/lib/python3.11/dist-packages (from python-dateutil>=2.8.2->pandas) (1.17.0)\n",
            "Requirement already satisfied: wrapt in /usr/local/lib/python3.11/dist-packages (from smart-open>=1.8.1->gensim) (1.17.2)\n",
            "Downloading gensim-4.3.3-cp311-cp311-manylinux_2_17_x86_64.manylinux2014_x86_64.whl (26.7 MB)\n",
            "\u001b[2K   \u001b[90m━━━━━━━━━━━━━━━━━━━━━━━━━━━━━━━━━━━━━━━━\u001b[0m \u001b[32m26.7/26.7 MB\u001b[0m \u001b[31m50.7 MB/s\u001b[0m eta \u001b[36m0:00:00\u001b[0m\n",
            "\u001b[?25hDownloading numpy-1.26.4-cp311-cp311-manylinux_2_17_x86_64.manylinux2014_x86_64.whl (18.3 MB)\n",
            "\u001b[2K   \u001b[90m━━━━━━━━━━━━━━━━━━━━━━━━━━━━━━━━━━━━━━━━\u001b[0m \u001b[32m18.3/18.3 MB\u001b[0m \u001b[31m58.3 MB/s\u001b[0m eta \u001b[36m0:00:00\u001b[0m\n",
            "\u001b[?25hDownloading scipy-1.13.1-cp311-cp311-manylinux_2_17_x86_64.manylinux2014_x86_64.whl (38.6 MB)\n",
            "\u001b[2K   \u001b[90m━━━━━━━━━━━━━━━━━━━━━━━━━━━━━━━━━━━━━━━━\u001b[0m \u001b[32m38.6/38.6 MB\u001b[0m \u001b[31m12.0 MB/s\u001b[0m eta \u001b[36m0:00:00\u001b[0m\n",
            "\u001b[?25h"
          ]
        }
      ]
    },
    {
      "cell_type": "code",
      "execution_count": 1,
      "metadata": {
        "id": "qkFmwQktvTP2"
      },
      "outputs": [],
      "source": [
        "# Importación de librerías\n",
        "import pandas as pd\n",
        "import re\n",
        "import nltk\n",
        "from gensim.models import Word2Vec\n",
        "from nltk.corpus import stopwords\n",
        "from nltk.stem import WordNetLemmatizer\n",
        "from nltk.tokenize import word_tokenize\n",
        "import re\n",
        "import string\n",
        "import warnings\n",
        "from tensorflow.keras.preprocessing.text import text_to_word_sequence\n",
        "import multiprocessing\n",
        "\n",
        "warnings.filterwarnings('ignore')"
      ]
    },
    {
      "cell_type": "code",
      "source": [
        "# ----- 0. Función de preprocesamiento -----\n",
        "try:\n",
        "    print(\"Descargando recursos de NLTK...\")\n",
        "    nltk.download('punkt')\n",
        "    nltk.download('punkt_tab')\n",
        "    nltk.download('stopwords')\n",
        "    nltk.download('wordnet')\n",
        "    print(\"Todos los recursos de NLTK actualizados...!!!\")\n",
        "except Exception as e:\n",
        "    print(f\"Error descargando NLTK: {e}\")\n",
        "\n",
        "\n",
        "def preprocesar_texto(text):\n",
        "    \"\"\"\n",
        "    Clean → Tokenization → Lemmatization → Remove stopwords → Remove punctuation\n",
        "    \"\"\"\n",
        "        # 0. Limpiar texto\n",
        "    cleaned_text = str(text).lower()\n",
        "    cleaned_text = re.sub(r'https?://\\S+|www\\.\\S+', ' ', cleaned_text) # Elimina URLs\n",
        "    cleaned_text = re.sub(r'[^a-záéíóúüñ\\s]', ' ', cleaned_text) # Solo letras y espacios\n",
        "\n",
        "    # 1. Tokenization\n",
        "    nltk_tokenList = word_tokenize(cleaned_text)\n",
        "\n",
        "    # 2. Lemmatization\n",
        "    lemmatizer = WordNetLemmatizer()\n",
        "    nltk_lemmaList = []\n",
        "    for word in nltk_tokenList:\n",
        "        nltk_lemmaList.append(lemmatizer.lemmatize(word))\n",
        "\n",
        "    # 3. Elminar Stop words\n",
        "    nltk_stop_words = set(stopwords.words(\"spanish\"))\n",
        "    filtered_sentence = [w for w in nltk_lemmaList if w not in nltk_stop_words]\n",
        "\n",
        "    # 4. Filtrar puntuación\n",
        "    filtered_sentence = [w for w in filtered_sentence if w not in string.punctuation]\n",
        "\n",
        "    return filtered_sentence"
      ],
      "metadata": {
        "id": "ZTaNDZwBeVDL",
        "colab": {
          "base_uri": "https://localhost:8080/"
        },
        "outputId": "da17809d-3ab7-4363-e2c7-4fd5c440c826"
      },
      "execution_count": 79,
      "outputs": [
        {
          "output_type": "stream",
          "name": "stdout",
          "text": [
            "Descargando recursos de NLTK...\n",
            "Todos los recursos de NLTK actualizados...!!!\n"
          ]
        },
        {
          "output_type": "stream",
          "name": "stderr",
          "text": [
            "[nltk_data] Downloading package punkt to /root/nltk_data...\n",
            "[nltk_data]   Package punkt is already up-to-date!\n",
            "[nltk_data] Downloading package punkt_tab to /root/nltk_data...\n",
            "[nltk_data]   Package punkt_tab is already up-to-date!\n",
            "[nltk_data] Downloading package stopwords to /root/nltk_data...\n",
            "[nltk_data]   Package stopwords is already up-to-date!\n",
            "[nltk_data] Downloading package wordnet to /root/nltk_data...\n",
            "[nltk_data]   Package wordnet is already up-to-date!\n"
          ]
        }
      ]
    },
    {
      "cell_type": "markdown",
      "source": [
        "* **Crear sus propios vectores con Gensim basado en lo visto en clase con otro dataset.**\n"
      ],
      "metadata": {
        "id": "Lz5nYqtLYwQS"
      }
    },
    {
      "cell_type": "code",
      "source": [
        "# ----- 1. Cargar y preprocesar data del csv cargado -----\n",
        "\n",
        "# Leer csv\n",
        "df = pd.read_csv('data_larazon_publico_v2.csv')\n",
        "\n",
        "# Eliminar filas donde cuerpo es vacío\n",
        "df.dropna(subset=['cuerpo'], inplace=True)\n",
        "\n",
        "df_sample = df.sample(frac=0.2, random_state=42)\n",
        "print(df_sample.info)\n",
        "\n",
        "# Preprocesar la columna cuerpo\n",
        "sentence_tokens = [preprocesar_texto(cuerpo) for cuerpo in df_sample['cuerpo']]\n",
        "\n",
        "# Filtrar cualquier lista vacía que pueda resultar del procesamiento\n",
        "sentence_tokens = [tokens for tokens in sentence_tokens if tokens]\n",
        "\n",
        "print(f\"\\n{len(sentence_tokens)} noticias procesadas.\")\n",
        "print(f\"\\nEjemplo de una sentencia (noticia) tokenizada: {sentence_tokens[0]}\")\n"
      ],
      "metadata": {
        "id": "l638Ng8sZQmv",
        "colab": {
          "base_uri": "https://localhost:8080/"
        },
        "outputId": "961eb56f-51f6-4827-f853-94fd611f8f14"
      },
      "execution_count": 81,
      "outputs": [
        {
          "output_type": "stream",
          "name": "stdout",
          "text": [
            "<bound method DataFrame.info of        Unnamed: 0   indi                                             cuerpo  \\\n",
            "35368       35368   3894  la compañía de tecnología y consultoría indra ...   \n",
            "6515         6515   1438  hace poco menos de un mes, una extraña carta l...   \n",
            "38676       38676   3252  nuclenor (sociedad participada al 50% por iber...   \n",
            "14311       14311    413  la sentencia de los ere, la primera de varias ...   \n",
            "24449       24449   2372  el pleno del congreso de los diputados de este...   \n",
            "...           ...    ...                                                ...   \n",
            "19876       19876   1230  preludio. esa es la palabra que viene a la cab...   \n",
            "44071       44071   3987  el temido colapso sanitario por la covid-19 am...   \n",
            "5881         5881    802  la población tunecina (697) es mayoritaria den...   \n",
            "55818       55819  15818  el govern prevé denunciar ante la fiscalía al ...   \n",
            "50771       50772  10745  el secretario general del pp de melilla, migue...   \n",
            "\n",
            "                                                 titular  \n",
            "35368  indra gana 120 millones en 2018, un 5,6% menos...  \n",
            "6515   la carta anónima que ayudó a resolver el crime...  \n",
            "38676  preacuerdo de ere para los 227 empleados de la...  \n",
            "14311         julio valdeón no caminaban sobre las aguas  \n",
            "24449  el rap de pablo hasel suena en el congreso \"en...  \n",
            "...                                                  ...  \n",
            "19876                      la hora de la gran desbandada  \n",
            "44071  la atención primaria catalana atiende la covid...  \n",
            "5881   los tunecinos son mayoría en el ceti de melill...  \n",
            "55818  el govern denunciará a lesmes y picazo ante la...  \n",
            "50771  el pp anuncia una querella contra el president...  \n",
            "\n",
            "[11685 rows x 4 columns]>\n",
            "\n",
            "11685 noticias procesadas.\n",
            "\n",
            "Ejemplo de una sentencia (noticia) tokenizada: ['compañía', 'tecnología', 'consultoría', 'indra', 'obtuvo', 'beneficio', 'neto', 'millones', 'euro', 'menos', 'millones', 'euro', 'debido', 'menores', 'atípicos', 'mientras', 'registró', 'incrementos', 'ingresos', 'contratación', 'cartera', 'resultado', 'bruto', 'explotación', 'ebitda', 'cumple', 'objetivos', 'contratación', 'neta', 'alcanzó', 'millones', 'euro', 'conjunto', 'pasado', 'ejercicio', 'supone', 'millones', 'euro', 'ingresó', 'aunque', 'moneda', 'local', 'subida', 'parte', 'ingresos', 'aumentaron', 'términos', 'reportados', 'moneda', 'local', 'millones', 'euro', 'principalmente', 'aportación', 'adquisiciones', 'así', 'propio', 'crecimiento', 'orgánico', 'compañía', 'valor', 'cartera', 'pedidos', 'indra', 'si', 'situó', 'cierre', 'millones', 'euro', 'supone', 'comparación', 'millones', 'euro', 'finale', 'parte', 'resultado', 'operativo', 'bruto', 'ebitda', 'indra', 'alcanzó', 'millones', 'euro', 'términos', 'reportados', 'moneda', 'local', 'permitido', 'empresa', 'registrar', 'expansión', 'margen', 'ebitda', 'frente', 'beneficio', 'neto', 'vio', 'afectado', 'menor', 'ingreso', 'extraordinario', 'impuestos', 'respecto', 'brasil', 'cerca', 'millones', 'euro', 'presidente', 'ejecutivo', 'indra', 'fernando', 'abril', 'martorell', 'remarcado', 'resultados', 'comienzan', 'mostrar', 'frutos', 'implementación', 'iniciativas', 'transformación', 'inversión', 'eficiencia', 'cambio', 'cultural', 'plan', 'estratégico', 'así', 'desempeño', 'nuevas', 'organizaciones', 'división', 'minsait', 'transporte', 'defensa', 't', 'd', 'deuda', 'neta', 'redujo', 'millones', 'euro', 'diciembre', 'frente', 'millones', 'rebajo', 'ratio', 'deuda', 'neta', 'respecto', 'ebitda', 'veces', 'veces', 'flujo', 'caja', 'libre', 'generado', 'millones', 'euro', 'frente', 'millones', 'gracias', 'fuerte', 'generación', 'caja', 'obtenida', 'cuarto', 'trimestre', 'millones', 'euro', 'cuarto', 'trimestre', 'frente', 'millones', 'cuarto', 'trimestre', 'cara', 'empresa', 'espera', 'crecimiento', 'dígito', 'bajo', 'moneda', 'local', 'ingresos', 'frente', 'reportados', 'así', 'crecimiento', 'superior', 'ebit', 'términos', 'absolutos', 'asimismo', 'estima', 'flujo', 'caja', 'libre', 'supere', 'millones', 'euro', 'variación', 'capital', 'circulante']\n"
          ]
        }
      ]
    },
    {
      "cell_type": "markdown",
      "source": [
        "**Comentario:** Se define la función *procesar_texto* que implementa un pipeline de preprocesamiento con NLTK. El proceso inicia con una fase de limpieza y normalización del cuerpo. Posteriormente, se realiza la *tokenización* y la *lematización* para reducir cada término a su forma base. Después, se realiza un filtrado para descartar tanto las stopwords como cualquier signo de puntuación residual."
      ],
      "metadata": {
        "id": "RQz5SexrO_45"
      }
    },
    {
      "cell_type": "code",
      "source": [
        "from gensim.models.callbacks import CallbackAny2Vec\n",
        "# Durante el entrenamiento gensim por defecto no informa el \"loss\" en cada época\n",
        "# Sobrecargamos el callback para poder tener esta información\n",
        "class callback(CallbackAny2Vec):\n",
        "    \"\"\"\n",
        "    Callback to print loss after each epoch\n",
        "    \"\"\"\n",
        "    def __init__(self):\n",
        "        self.epoch = 0\n",
        "\n",
        "    def on_epoch_end(self, model):\n",
        "        loss = model.get_latest_training_loss()\n",
        "        if self.epoch == 0:\n",
        "            print('Loss after epoch {}: {}'.format(self.epoch, loss))\n",
        "        else:\n",
        "            print('Loss after epoch {}: {}'.format(self.epoch, loss- self.loss_previous_step))\n",
        "        self.epoch += 1\n",
        "        self.loss_previous_step = loss"
      ],
      "metadata": {
        "id": "7XJHDp80JlPy"
      },
      "execution_count": 82,
      "outputs": []
    },
    {
      "cell_type": "code",
      "source": [
        "# ----- 2. Crear y entrenar el modelo Word2Vec -----\n",
        "print(\"Entrenando el modelo Word2Vec...\\n\")\n",
        "\n",
        "# Crear modelo generador de vectores\n",
        "w2v_model = Word2Vec(\n",
        "    min_count=5,\n",
        "    window=2,\n",
        "    vector_size=300,\n",
        "    workers=multiprocessing.cpu_count(),\n",
        "    sg=1  # 1 para modelo Skip-gram\n",
        ")\n",
        "\n",
        "# Construir el vocabulario a partir de los tokens\n",
        "w2v_model.build_vocab(sentence_tokens)\n",
        "print(f\"Vocabulario construido con {len(w2v_model.wv.index_to_key)} palabras únicas.\\n\")\n",
        "\n",
        "# Entrenar el modelo\n",
        "w2v_model.train(\n",
        "    sentence_tokens,\n",
        "    total_examples=w2v_model.corpus_count,\n",
        "    epochs=30,\n",
        "    compute_loss = True,\n",
        "    callbacks=[callback()]\n",
        ")\n",
        "\n",
        "print(\"Entrenamiento del modelo completado...!\\n\")\n",
        "\n",
        "# Guardar el modelo\n",
        "w2v_model.save(\"word2vec_news.model\")\n",
        "print(\"Modelo guardado con el nombre 'word2vec_news.model'\\n\")\n"
      ],
      "metadata": {
        "id": "fr4gmzm8anpz",
        "colab": {
          "base_uri": "https://localhost:8080/"
        },
        "outputId": "91fe6097-8bc1-496c-bb7b-e96f117b3152"
      },
      "execution_count": 83,
      "outputs": [
        {
          "output_type": "stream",
          "name": "stdout",
          "text": [
            "Entrenando el modelo Word2Vec...\n",
            "\n",
            "Vocabulario construido con 32708 palabras únicas.\n",
            "\n",
            "Loss after epoch 0: 11405601.0\n",
            "Loss after epoch 1: 7449767.0\n",
            "Loss after epoch 2: 6861524.0\n",
            "Loss after epoch 3: 6535658.0\n",
            "Loss after epoch 4: 4766662.0\n",
            "Loss after epoch 5: 4193984.0\n",
            "Loss after epoch 6: 4087900.0\n",
            "Loss after epoch 7: 3985108.0\n",
            "Loss after epoch 8: 3949480.0\n",
            "Loss after epoch 9: 3814556.0\n",
            "Loss after epoch 10: 3831500.0\n",
            "Loss after epoch 11: 3744796.0\n",
            "Loss after epoch 12: 2676408.0\n",
            "Loss after epoch 13: 615544.0\n",
            "Loss after epoch 14: 598384.0\n",
            "Loss after epoch 15: 594464.0\n",
            "Loss after epoch 16: 573160.0\n",
            "Loss after epoch 17: 564056.0\n",
            "Loss after epoch 18: 553152.0\n",
            "Loss after epoch 19: 542360.0\n",
            "Loss after epoch 20: 537936.0\n",
            "Loss after epoch 21: 526184.0\n",
            "Loss after epoch 22: 508480.0\n",
            "Loss after epoch 23: 505832.0\n",
            "Loss after epoch 24: 485312.0\n",
            "Loss after epoch 25: 478328.0\n",
            "Loss after epoch 26: 472704.0\n",
            "Loss after epoch 27: 459856.0\n",
            "Loss after epoch 28: 451056.0\n",
            "Loss after epoch 29: 437200.0\n",
            "Entrenamiento del modelo completado...!\n",
            "\n",
            "Modelo guardado con el nombre 'word2vec_news.model'\n",
            "\n"
          ]
        }
      ]
    },
    {
      "cell_type": "markdown",
      "source": [
        "**Comentario:** El resultado del entrenamiento del modelo demuestra un proceso de convergencia relativamente exitoso. Partiendo de un vocabulario de más de 32 000 palabras únicas y que la función de pérdida exhibe una tendencia decreciente a lo largo de las 30 épocas, lo que indica que el modelo está aprendiendo patrones semánticos del corpus, sugiriendo que el modelo alcanza un punto de optimización adecuado."
      ],
      "metadata": {
        "id": "6FhW4ylOPsgl"
      }
    },
    {
      "cell_type": "markdown",
      "source": [
        "* **Probar términos de interés y explicar similitudes en el espacio de embeddings (sacar conclusiones entre palabras similitudes y diferencias).**\n"
      ],
      "metadata": {
        "id": "Fnlil3IHY69L"
      }
    },
    {
      "cell_type": "code",
      "source": [
        "from gensim.models import Word2Vec\n",
        "\n",
        "# Cargar el modelo\n",
        "model = Word2Vec.load('word2vec_news.model')\n",
        "print(\"Modelo cargado...!\\n\")"
      ],
      "metadata": {
        "id": "YcH5m-UzASrE",
        "colab": {
          "base_uri": "https://localhost:8080/"
        },
        "outputId": "db429267-ee2c-4009-c65f-b1fe0cf14b6c"
      },
      "execution_count": 84,
      "outputs": [
        {
          "output_type": "stream",
          "name": "stdout",
          "text": [
            "Modelo cargado...!\n",
            "\n"
          ]
        }
      ]
    },
    {
      "cell_type": "code",
      "source": [
        "from sklearn.metrics import pairwise\n",
        "import matplotlib.pyplot as plt\n",
        "import numpy as np\n",
        "import pandas as pd\n",
        "import seaborn as sns\n",
        "\n",
        "def get_most_similar_w (model: Word2Vec, words:list):\n",
        "  for w in words:\n",
        "    print(f\"--- TEST: Palabras similares a {w} ---\")\n",
        "    print(model.wv.most_similar(positive=[w], topn=7))\n",
        "    print(\"\\n\")\n",
        "\n",
        "def get_w_embeddings (model: Word2Vec, words: list):\n",
        "  vector_size = model.vector_size\n",
        "  embeddings = []\n",
        "  for w in words:\n",
        "    if w in model.wv:\n",
        "      embeddings.append(model.wv[w])\n",
        "    else:\n",
        "      embeddings.append(np.zeros(vector_size))\n",
        "  return np.vstack(embeddings)"
      ],
      "metadata": {
        "id": "wLJpnFdscJAH"
      },
      "execution_count": 127,
      "outputs": []
    },
    {
      "cell_type": "code",
      "source": [
        "test_words = ['españa', 'congreso', 'cultura', 'economía', 'periódico']\n",
        "\n",
        "get_most_similar_w(model, test_words)"
      ],
      "metadata": {
        "colab": {
          "base_uri": "https://localhost:8080/"
        },
        "id": "u1pkoyTHWhAQ",
        "outputId": "f7574d55-6df9-4dd3-8825-4aae49696850"
      },
      "execution_count": 128,
      "outputs": [
        {
          "output_type": "stream",
          "name": "stdout",
          "text": [
            "--- TEST: Palabras similares a españa ---\n",
            "[('incipientes', 0.38616642355918884), ('auza', 0.37093430757522583), ('regresara', 0.36295121908187866), ('desgobernadosbaleares', 0.35197925567626953), ('nórdicos', 0.3487876057624817), ('hispanoamérica', 0.3400317132472992), ('ia', 0.3383564054965973)]\n",
            "\n",
            "\n",
            "--- TEST: Palabras similares a congreso ---\n",
            "[('diputados', 0.5600146055221558), ('cámara', 0.5580068230628967), ('senado', 0.5411327481269836), ('parlamento', 0.44036608934402466), ('debatirse', 0.41410255432128906), ('votara', 0.4131537675857544), ('parlamentaria', 0.4112364947795868)]\n",
            "\n",
            "\n",
            "--- TEST: Palabras similares a cultura ---\n",
            "[('deporte', 0.37873032689094543), ('pop', 0.3787125051021576), ('ciencia', 0.3735942542552948), ('dilatada', 0.36092519760131836), ('antonia', 0.3544655442237854), ('educación', 0.34932950139045715), ('agricultura', 0.3479132056236267)]\n",
            "\n",
            "\n",
            "--- TEST: Palabras similares a economía ---\n",
            "[('competitividad', 0.40509679913520813), ('desaceleración', 0.3938645124435425), ('tejido', 0.3837059736251831), ('valdeolivas', 0.3754463791847229), ('revierte', 0.3739824891090393), ('recaudatoria', 0.368093878030777), ('liberalizar', 0.3656855523586273)]\n",
            "\n",
            "\n",
            "--- TEST: Palabras similares a periódico ---\n",
            "[('betevé', 0.462520033121109), ('politécnica', 0.3967067003250122), ('upm', 0.3940618634223938), ('diario', 0.37908247113227844), ('larazón', 0.3728889524936676), ('vozpopuli', 0.36663708090782166), ('razón', 0.36022329330444336)]\n",
            "\n",
            "\n"
          ]
        }
      ]
    },
    {
      "cell_type": "markdown",
      "source": [
        "**Comentario:** El modelo de embeddings demuestra un rendimiento variable, que depende básicamente de lo específico relacionado a la semántica de cada palabra en el corpus. Por ejemplo, exhibe una notable capacidad para capturar el contexto de conceptos bien definidos como *congreso*, que se asocia con un scope léxico como *diputados, senado, parlamento* y con *periódico* que se vincula a *diario, larazon, vozpopuli*. Sin embargo, también muestra dificultades con términos semánticamente más amplios como *españa* que tiende a representar conceptos más generales."
      ],
      "metadata": {
        "id": "ZSSHB6bQQj2n"
      }
    },
    {
      "cell_type": "code",
      "source": [
        "def perform_analogy(positive_words, negative_words):\n",
        "    \"\"\"\n",
        "    Función auxiliar para realizar analogías\n",
        "    \"\"\"\n",
        "    # Muestra la fórmula de la analogía que se está probando.\n",
        "    formula = f\"{' + '.join(positive_words)} - {''.join(negative_words)}\"\n",
        "    print(f\"Probando Fórmula: {formula}\")\n",
        "\n",
        "    try:\n",
        "        result = model.wv.most_similar(positive=positive_words, negative=negative_words, topn=10)\n",
        "        print(f\"Resultado: {result}\\n\")\n",
        "    except KeyError as e:\n",
        "        print(f\"Error: La palabra {e} no está en el vocabulario del modelo.\\n\")\n",
        "\n",
        "# --- Analogía 1: Género y Realeza ---\n",
        "perform_analogy(positive_words=[\"rey\", \"reina\"], negative_words=[\"hombre\"])\n",
        "\n",
        "# --- Analogía 2: Geografía ---\n",
        "perform_analogy(positive_words=[\"españa\", \"portugal\"], negative_words=[\"madrid\"])\n",
        "\n",
        "# --- Analogía 3: Conceptos ---\n",
        "perform_analogy(positive_words=[\"economía\", \"cultura\"], negative_words=[\"dinero\"])"
      ],
      "metadata": {
        "id": "GbVAyJxUh_Uq",
        "colab": {
          "base_uri": "https://localhost:8080/"
        },
        "outputId": "347dcf38-42f0-485e-ad2b-2cc8878eed9b"
      },
      "execution_count": 119,
      "outputs": [
        {
          "output_type": "stream",
          "name": "stdout",
          "text": [
            "Probando Fórmula: rey + reina - hombre\n",
            "Resultado: [('emérito', 0.5194422602653503), ('monarca', 0.42250338196754456), ('letizia', 0.40785887837409973), ('hussein', 0.3933655023574829), ('abdalá', 0.387633353471756), ('salman', 0.38481247425079346), ('vi', 0.3841986060142517), ('carlosespaña', 0.3611869215965271), ('zarzuela', 0.3478972315788269), ('examiga', 0.3460576832294464)]\n",
            "\n",
            "Probando Fórmula: españa + portugal - madrid\n",
            "Resultado: [('reconociera', 0.35572266578674316), ('nórdicos', 0.3486238718032837), ('estonia', 0.3437994122505188), ('jordania', 0.34076401591300964), ('latinoamérica', 0.33626917004585266), ('bielorrusia', 0.3343985676765442), ('eslovenia', 0.33414027094841003), ('chipre', 0.3334166705608368), ('dinamarca', 0.3322995603084564), ('yugoslavia', 0.3275893032550812)]\n",
            "\n",
            "Probando Fórmula: economía + cultura - dinero\n",
            "Resultado: [('agricultura', 0.3295537531375885), ('ciencia', 0.3247700035572052), ('valdeolivas', 0.30289801955223083), ('emprendimiento', 0.30016255378723145), ('industria', 0.2938154339790344), ('aventuraba', 0.2929023504257202), ('sanidad', 0.2910459339618683), ('dilatada', 0.2840552031993866), ('ecológica', 0.2807687520980835), ('aeroespacial', 0.2803008556365967)]\n",
            "\n"
          ]
        }
      ]
    },
    {
      "cell_type": "markdown",
      "source": [
        "**Comentario:** los resultados de las analógicas demuestran una capacidad notable del modelo para corresponder una lógica semántica, pero no del todo precisa aún. El primer test asila exitosamente el concepto de \"realeza\", devolviendo términos como *monarca, emérito* y nombres reales de reinas como *letizia*. De forma similar, la tercera analogía produce como resultado otros sectores claves como la *agricutura, ciencia e industria*, demostrando que el modelo puede diferir conceptos categóricos. Aunque la segunda analogía es menos precisa, su resultado indica también que el modelo entiende la operación a nivel categórica."
      ],
      "metadata": {
        "id": "pNGwwOGKRxYv"
      }
    },
    {
      "cell_type": "markdown",
      "source": [
        "* **Graficarlos.**"
      ],
      "metadata": {
        "id": "1T7hH1MbY81C"
      }
    },
    {
      "cell_type": "code",
      "source": [
        "import numpy as np\n",
        "import plotly.express as px\n",
        "from sklearn.manifold import TSNE\n",
        "\n",
        "def reduce_dimensions(model, num_dimensions=2):\n",
        "    \"\"\"\n",
        "    Reduce la dimensionalidad de los vectores para poder graficarlos.\n",
        "    \"\"\"\n",
        "    vectors = np.asarray(model.wv.vectors)\n",
        "    labels = np.asarray(model.wv.index_to_key)\n",
        "\n",
        "    # Usamos t-SNE para la reducción.\n",
        "    tsne = TSNE(n_components=num_dimensions, random_state=0)\n",
        "    vectors_reduced = tsne.fit_transform(vectors)\n",
        "    return vectors_reduced, labels\n",
        "\n",
        "print(\"Reduciendo dimensiones con t-SNE para la visualización...\")\n",
        "vecs, labels = reduce_dimensions(model)\n",
        "print(\"Dimensiones reducidas.\")\n",
        "\n",
        "# Graficamos las primeras 250 palabras para que el gráfico sea legible.\n",
        "MAX_WORDS = 250\n",
        "fig = px.scatter(\n",
        "    x=vecs[:MAX_WORDS, 0],\n",
        "    y=vecs[:MAX_WORDS, 1],\n",
        "    text=labels[:MAX_WORDS]\n",
        ")\n",
        "# Añadimos títulos en español al gráfico.\n",
        "fig.update_layout(\n",
        "    title=\"Visualización 2D de Embeddings de Noticias en Español\",\n",
        "    xaxis_title=\"Dimensión 1\",\n",
        "    yaxis_title=\"Dimensión 2\"\n",
        ")\n",
        "fig.show()"
      ],
      "metadata": {
        "colab": {
          "base_uri": "https://localhost:8080/",
          "height": 577
        },
        "id": "Q0JF_YzbHD8s",
        "outputId": "134af9ef-0c7a-413b-e6e0-0942ada0997e"
      },
      "execution_count": 120,
      "outputs": [
        {
          "output_type": "stream",
          "name": "stdout",
          "text": [
            "Reduciendo dimensiones con t-SNE para la visualización...\n",
            "Dimensiones reducidas.\n"
          ]
        },
        {
          "output_type": "display_data",
          "data": {
            "text/html": [
              "<html>\n",
              "<head><meta charset=\"utf-8\" /></head>\n",
              "<body>\n",
              "    <div>            <script src=\"https://cdnjs.cloudflare.com/ajax/libs/mathjax/2.7.5/MathJax.js?config=TeX-AMS-MML_SVG\"></script><script type=\"text/javascript\">if (window.MathJax && window.MathJax.Hub && window.MathJax.Hub.Config) {window.MathJax.Hub.Config({SVG: {font: \"STIX-Web\"}});}</script>                <script type=\"text/javascript\">window.PlotlyConfig = {MathJaxConfig: 'local'};</script>\n",
              "        <script charset=\"utf-8\" src=\"https://cdn.plot.ly/plotly-2.35.2.min.js\"></script>                <div id=\"9935bc29-ea98-494f-9dbd-3d2e450f8e80\" class=\"plotly-graph-div\" style=\"height:525px; width:100%;\"></div>            <script type=\"text/javascript\">                                    window.PLOTLYENV=window.PLOTLYENV || {};                                    if (document.getElementById(\"9935bc29-ea98-494f-9dbd-3d2e450f8e80\")) {                    Plotly.newPlot(                        \"9935bc29-ea98-494f-9dbd-3d2e450f8e80\",                        [{\"hovertemplate\":\"x=%{x}\\u003cbr\\u003ey=%{y}\\u003cbr\\u003etext=%{text}\\u003cextra\\u003e\\u003c\\u002fextra\\u003e\",\"legendgroup\":\"\",\"marker\":{\"color\":\"#636efa\",\"symbol\":\"circle\"},\"mode\":\"markers+text\",\"name\":\"\",\"orientation\":\"v\",\"showlegend\":false,\"text\":[\"gobierno\",\"persona\",\"si\",\"españa\",\"podemos\",\"horas\",\"madrid\",\"partido\",\"do\",\"años\",\"pp\",\"así\",\"ser\",\"según\",\"ahora\",\"tras\",\"euro\",\"aunque\",\"millones\",\"caso\",\"presidente\",\"iglesias\",\"año\",\"además\",\"queda\",\"sánchez\",\"parte\",\"comunidad\",\"después\",\"toque\",\"toda\",\"psoe\",\"hecho\",\"interior\",\"hostelería\",\"mientras\",\"sido\",\"país\",\"máximo\",\"nacional\",\"puede\",\"general\",\"medidas\",\"cierre\",\"hace\",\"hoy\",\"tribunal\",\"pasado\",\"tres\",\"aforo\",\"vox\",\"fin\",\"mismo\",\"política\",\"cada\",\"momento\",\"ciudadanos\",\"pablo\",\"menos\",\"alarma\",\"reuniones\",\"congreso\",\"vez\",\"día\",\"partir\",\"hacer\",\"ejecutivo\",\"seis\",\"grupo\",\"ley\",\"días\",\"semana\",\"sociales\",\"situación\",\"tiempo\",\"elecciones\",\"nivel\",\"frente\",\"justicia\",\"meses\",\"tener\",\"primera\",\"número\",\"acuerdo\",\"solo\",\"mesa\",\"pandemia\",\"trabajo\",\"va\",\"cuatro\",\"nuevo\",\"embargo\",\"vasco\",\"poder\",\"público\",\"sino\",\"seguridad\",\"josé\",\"domingo\",\"consejo\",\"podrán\",\"datos\",\"respecto\",\"forma\",\"fuentes\",\"covid\",\"perimetral\",\"mayoría\",\"mayo\",\"bien\",\"pedro\",\"entonces\",\"cuenta\",\"proyecto\",\"dirección\",\"ello\",\"líder\",\"cinco\",\"formación\",\"decisión\",\"electoral\",\"cataluña\",\"social\",\"siempre\",\"sólo\",\"crisis\",\"ministerio\",\"primer\",\"mañana\",\"misma\",\"zona\",\"mayor\",\"sociedad\",\"exterior\",\"total\",\"establecimientos\",\"nueva\",\"pueden\",\"manera\",\"casos\",\"judicial\",\"derecho\",\"riesgo\",\"mantiene\",\"grupos\",\"andalucía\",\"limitación\",\"casado\",\"mantener\",\"dice\",\"partidos\",\"supremo\",\"libertad\",\"generalitat\",\"actividades\",\"parece\",\"portavoz\",\"cargo\",\"centros\",\"juan\",\"haber\",\"pública\",\"debe\",\"cambio\",\"explica\",\"actividad\",\"comisión\",\"sector\",\"salud\",\"secretario\",\"ningún\",\"diputados\",\"ayer\",\"dijo\",\"popular\",\"gente\",\"centro\",\"junta\",\"lugar\",\"fiscalía\",\"izquierda\",\"civil\",\"ex\",\"audiencia\",\"falta\",\"cualquier\",\"trata\",\"diez\",\"restricciones\",\"española\",\"dentro\",\"víctimas\",\"podría\",\"empresas\",\"próximo\",\"aún\",\"medio\",\"barcelona\",\"alto\",\"derechos\",\"cómo\",\"defensa\",\"carlos\",\"dar\",\"policía\",\"servicios\",\"bajo\",\"ministro\",\"último\",\"dicho\",\"actual\",\"campaña\",\"gran\",\"ejemplo\",\"superior\",\"tampoco\",\"unidas\",\"investigación\",\"universidad\",\"político\",\"horario\",\"hizo\",\"debate\",\"luis\",\"locale\",\"medida\",\"políticas\",\"erc\",\"juez\",\"c\",\"casi\",\"virus\",\"tipo\",\"problema\",\"vida\",\"unas\",\"apoyo\",\"sistema\",\"votos\",\"coronavirus\",\"proceso\",\"última\",\"central\",\"garcía\",\"través\",\"decir\",\"evitar\",\"políticos\",\"rey\",\"claro\"],\"x\":[-3.6708024,-8.713575,-9.128099,6.2751474,-5.1092234,9.381967,-11.769862,-5.5269856,12.098776,5.1296425,-5.4103184,-14.527538,-3.624105,16.328562,-9.162329,6.689766,35.55981,4.6077747,35.70514,-16.452303,3.8548896,-13.93266,32.804173,25.209532,42.039997,-8.533137,18.96821,-10.694655,4.171902,42.066048,10.653695,-5.0175443,-9.162545,-27.581154,41.808033,10.941854,-5.8750033,-4.3395576,40.24811,-26.246508,-21.047644,-16.707264,10.196737,47.4154,-16.065338,-3.2407851,-12.817048,5.6356964,9.892673,40.561966,-6.422697,11.7314205,16.340265,-8.527593,11.552678,-2.4979663,-6.015379,-10.339675,27.27831,-0.62262815,26.503414,38.57933,3.3644822,-12.973813,29.581953,-7.6800365,-3.6530187,14.968703,39.525833,0.6271119,11.143033,8.30747,12.669012,-19.42523,16.159157,7.4372587,32.162388,46.12556,-12.553547,14.382829,-4.2079206,3.7369606,37.97374,32.426228,-5.8406534,1.9074056,19.531507,19.93139,-14.567817,19.662804,11.912112,40.08788,-6.1291447,0.14295788,1.8807164,-4.109323,14.779822,-25.379887,9.829347,3.996249,39.44163,3.8774376,30.224617,5.7837734,-31.624031,19.973707,23.869364,5.381185,9.491416,-9.583845,-8.530362,-17.665642,17.669277,27.285976,5.6770625,-10.872791,-9.988139,38.441193,-5.7071238,-2.1230397,6.9304767,6.6315255,18.384066,-1.0580472,-1.3447175,19.55151,-6.7014832,43.708885,-4.646867,-7.95716,30.733603,31.417418,20.115782,-1.4030695,37.034737,40.185238,20.507013,-14.882251,5.782948,10.0967655,-0.95767915,-7.1380887,25.364416,31.812222,7.7933235,-6.379726,13.867874,-7.68993,-5.680545,-15.293563,7.72422,-12.911292,-17.160389,-9.50146,14.530523,-9.894728,-15.963136,31.747063,15.665033,-26.982212,-29.306696,-34.900776,-0.22186452,-0.6626205,-8.4628105,24.84861,9.891201,27.321945,26.565506,-9.589955,-6.7085204,38.482704,-13.728914,36.488182,-5.4001923,-14.582667,-3.9679623,16.272408,10.303595,-13.968509,45.074852,-39.22406,-33.397465,-15.36563,-0.86437786,-2.445867,-18.470371,30.204826,23.544422,22.865862,-23.129364,-24.35045,3.9873946,35.56273,9.480991,14.422154,43.205566,-5.6263757,17.408686,-26.663012,-10.128394,-34.274914,-26.965576,-5.046071,-3.376852,38.592216,22.027689,10.098374,43.75616,-43.342445,-10.965737,-2.2650533,40.096664,11.979445,-12.552711,-3.8480308,-5.0858984,-18.263992,-28.13639,-5.126139,44.09795,-1.3278936,-11.631577,-22.37214,17.440744,-8.6518,-4.9598923,27.68016,-17.183699,-5.9457784,31.700144,16.347713,11.341142,-8.888702,-27.95125,15.188593,49.327183,26.650888,8.516461,26.148172,40.095768,5.044736,-35.367626,-22.235518,7.617117,-13.381397,-17.735537,-4.529905,5.970597,0.8145774],\"xaxis\":\"x\",\"y\":[-15.1034,42.491222,3.5877094,-25.616367,-21.993551,6.9227796,-27.041563,-13.915244,3.8820026,31.002604,-14.149392,21.338905,12.049848,-13.102289,3.2237797,6.302555,16.085474,10.6658945,16.179943,37.03391,-21.38962,-3.8897898,9.850735,21.825598,22.74196,-18.036339,19.873558,-39.35685,11.375577,22.752747,15.223136,-5.8640747,0.06273026,-22.027575,-23.81469,1.1925699,36.186943,-24.419441,15.499687,-43.0333,1.0534956,-29.690168,20.513577,-4.6360793,8.674138,-17.231855,32.560154,6.470624,2.2625356,-25.230484,-14.851233,11.6576805,9.921629,-5.807233,12.601948,11.261585,-14.949823,-16.037865,9.585605,9.379953,-37.35532,31.465446,5.481861,-17.17707,16.746138,0.98824793,-15.098012,10.135093,-10.966003,23.373583,10.361084,-12.298665,21.002886,-0.32456347,10.2062435,0.59732777,11.73166,8.048642,34.939842,10.170333,12.381878,-12.237698,10.620932,35.648266,13.661022,3.8104198,11.691813,3.2194767,4.605052,13.181375,7.571057,7.4888453,-25.035355,4.148782,8.163768,17.301983,28.313858,-25.49279,9.664452,-20.977377,-24.343386,31.117945,11.995129,30.849125,23.20728,11.720338,-38.525455,-2.3854725,9.258997,3.4782405,-18.050905,-19.27437,-11.631639,-26.892807,-11.222633,6.065699,-12.754309,21.064236,-15.472605,8.899392,0.81270164,-35.906185,16.574142,-3.202286,-12.771674,11.47728,32.926003,13.710876,-28.416834,30.328106,4.7526927,6.5773582,2.5749922,-26.730669,11.809499,-24.034475,-29.0318,4.9196696,30.840456,28.445698,25.823414,20.228807,35.689083,31.296324,3.4711144,-16.29242,28.957582,-14.456837,20.449915,-2.5506456,2.7453105,32.48081,27.121603,-32.299816,25.0182,2.3407671,-27.904093,28.849556,24.159536,-31.462154,28.286077,5.5126095,18.492992,7.829805,25.867647,6.574687,-22.843885,-8.339747,-32.20244,-21.627348,7.771734,31.30965,-25.00906,-14.974959,-14.40699,2.3527021,-5.6270137,-10.559883,-5.3767967,35.93913,-20.136332,-25.351969,-28.816391,32.48728,32.279556,17.49027,17.181349,12.280765,-37.65926,-21.624847,22.096354,16.047441,-3.6636472,6.455671,8.9344635,-7.856022,24.59626,-35.320026,7.9633093,31.998058,3.646424,12.406605,-31.474472,6.2908387,40.281868,0.24263614,-7.815649,-21.137205,17.23296,-2.260701,-20.62659,-13.056299,13.549075,-20.50325,34.926224,18.088602,-21.9867,37.521835,-36.119167,-8.414825,-22.720266,5.05924,-8.428465,-29.288849,22.838427,22.340385,-1.9107949,41.836933,33.421238,-14.97688,15.398166,10.238635,32.557617,3.5651813,1.9798785,14.169685,5.964316,-5.4356055,-3.5236175,3.1174355,-3.5173378,-12.618824,15.50248,-25.526924,39.643024,6.521689,9.6958475,3.0085325,-29.303722,-4.2289495],\"yaxis\":\"y\",\"type\":\"scatter\"}],                        {\"template\":{\"data\":{\"histogram2dcontour\":[{\"type\":\"histogram2dcontour\",\"colorbar\":{\"outlinewidth\":0,\"ticks\":\"\"},\"colorscale\":[[0.0,\"#0d0887\"],[0.1111111111111111,\"#46039f\"],[0.2222222222222222,\"#7201a8\"],[0.3333333333333333,\"#9c179e\"],[0.4444444444444444,\"#bd3786\"],[0.5555555555555556,\"#d8576b\"],[0.6666666666666666,\"#ed7953\"],[0.7777777777777778,\"#fb9f3a\"],[0.8888888888888888,\"#fdca26\"],[1.0,\"#f0f921\"]]}],\"choropleth\":[{\"type\":\"choropleth\",\"colorbar\":{\"outlinewidth\":0,\"ticks\":\"\"}}],\"histogram2d\":[{\"type\":\"histogram2d\",\"colorbar\":{\"outlinewidth\":0,\"ticks\":\"\"},\"colorscale\":[[0.0,\"#0d0887\"],[0.1111111111111111,\"#46039f\"],[0.2222222222222222,\"#7201a8\"],[0.3333333333333333,\"#9c179e\"],[0.4444444444444444,\"#bd3786\"],[0.5555555555555556,\"#d8576b\"],[0.6666666666666666,\"#ed7953\"],[0.7777777777777778,\"#fb9f3a\"],[0.8888888888888888,\"#fdca26\"],[1.0,\"#f0f921\"]]}],\"heatmap\":[{\"type\":\"heatmap\",\"colorbar\":{\"outlinewidth\":0,\"ticks\":\"\"},\"colorscale\":[[0.0,\"#0d0887\"],[0.1111111111111111,\"#46039f\"],[0.2222222222222222,\"#7201a8\"],[0.3333333333333333,\"#9c179e\"],[0.4444444444444444,\"#bd3786\"],[0.5555555555555556,\"#d8576b\"],[0.6666666666666666,\"#ed7953\"],[0.7777777777777778,\"#fb9f3a\"],[0.8888888888888888,\"#fdca26\"],[1.0,\"#f0f921\"]]}],\"heatmapgl\":[{\"type\":\"heatmapgl\",\"colorbar\":{\"outlinewidth\":0,\"ticks\":\"\"},\"colorscale\":[[0.0,\"#0d0887\"],[0.1111111111111111,\"#46039f\"],[0.2222222222222222,\"#7201a8\"],[0.3333333333333333,\"#9c179e\"],[0.4444444444444444,\"#bd3786\"],[0.5555555555555556,\"#d8576b\"],[0.6666666666666666,\"#ed7953\"],[0.7777777777777778,\"#fb9f3a\"],[0.8888888888888888,\"#fdca26\"],[1.0,\"#f0f921\"]]}],\"contourcarpet\":[{\"type\":\"contourcarpet\",\"colorbar\":{\"outlinewidth\":0,\"ticks\":\"\"}}],\"contour\":[{\"type\":\"contour\",\"colorbar\":{\"outlinewidth\":0,\"ticks\":\"\"},\"colorscale\":[[0.0,\"#0d0887\"],[0.1111111111111111,\"#46039f\"],[0.2222222222222222,\"#7201a8\"],[0.3333333333333333,\"#9c179e\"],[0.4444444444444444,\"#bd3786\"],[0.5555555555555556,\"#d8576b\"],[0.6666666666666666,\"#ed7953\"],[0.7777777777777778,\"#fb9f3a\"],[0.8888888888888888,\"#fdca26\"],[1.0,\"#f0f921\"]]}],\"surface\":[{\"type\":\"surface\",\"colorbar\":{\"outlinewidth\":0,\"ticks\":\"\"},\"colorscale\":[[0.0,\"#0d0887\"],[0.1111111111111111,\"#46039f\"],[0.2222222222222222,\"#7201a8\"],[0.3333333333333333,\"#9c179e\"],[0.4444444444444444,\"#bd3786\"],[0.5555555555555556,\"#d8576b\"],[0.6666666666666666,\"#ed7953\"],[0.7777777777777778,\"#fb9f3a\"],[0.8888888888888888,\"#fdca26\"],[1.0,\"#f0f921\"]]}],\"mesh3d\":[{\"type\":\"mesh3d\",\"colorbar\":{\"outlinewidth\":0,\"ticks\":\"\"}}],\"scatter\":[{\"fillpattern\":{\"fillmode\":\"overlay\",\"size\":10,\"solidity\":0.2},\"type\":\"scatter\"}],\"parcoords\":[{\"type\":\"parcoords\",\"line\":{\"colorbar\":{\"outlinewidth\":0,\"ticks\":\"\"}}}],\"scatterpolargl\":[{\"type\":\"scatterpolargl\",\"marker\":{\"colorbar\":{\"outlinewidth\":0,\"ticks\":\"\"}}}],\"bar\":[{\"error_x\":{\"color\":\"#2a3f5f\"},\"error_y\":{\"color\":\"#2a3f5f\"},\"marker\":{\"line\":{\"color\":\"#E5ECF6\",\"width\":0.5},\"pattern\":{\"fillmode\":\"overlay\",\"size\":10,\"solidity\":0.2}},\"type\":\"bar\"}],\"scattergeo\":[{\"type\":\"scattergeo\",\"marker\":{\"colorbar\":{\"outlinewidth\":0,\"ticks\":\"\"}}}],\"scatterpolar\":[{\"type\":\"scatterpolar\",\"marker\":{\"colorbar\":{\"outlinewidth\":0,\"ticks\":\"\"}}}],\"histogram\":[{\"marker\":{\"pattern\":{\"fillmode\":\"overlay\",\"size\":10,\"solidity\":0.2}},\"type\":\"histogram\"}],\"scattergl\":[{\"type\":\"scattergl\",\"marker\":{\"colorbar\":{\"outlinewidth\":0,\"ticks\":\"\"}}}],\"scatter3d\":[{\"type\":\"scatter3d\",\"line\":{\"colorbar\":{\"outlinewidth\":0,\"ticks\":\"\"}},\"marker\":{\"colorbar\":{\"outlinewidth\":0,\"ticks\":\"\"}}}],\"scattermapbox\":[{\"type\":\"scattermapbox\",\"marker\":{\"colorbar\":{\"outlinewidth\":0,\"ticks\":\"\"}}}],\"scatterternary\":[{\"type\":\"scatterternary\",\"marker\":{\"colorbar\":{\"outlinewidth\":0,\"ticks\":\"\"}}}],\"scattercarpet\":[{\"type\":\"scattercarpet\",\"marker\":{\"colorbar\":{\"outlinewidth\":0,\"ticks\":\"\"}}}],\"carpet\":[{\"aaxis\":{\"endlinecolor\":\"#2a3f5f\",\"gridcolor\":\"white\",\"linecolor\":\"white\",\"minorgridcolor\":\"white\",\"startlinecolor\":\"#2a3f5f\"},\"baxis\":{\"endlinecolor\":\"#2a3f5f\",\"gridcolor\":\"white\",\"linecolor\":\"white\",\"minorgridcolor\":\"white\",\"startlinecolor\":\"#2a3f5f\"},\"type\":\"carpet\"}],\"table\":[{\"cells\":{\"fill\":{\"color\":\"#EBF0F8\"},\"line\":{\"color\":\"white\"}},\"header\":{\"fill\":{\"color\":\"#C8D4E3\"},\"line\":{\"color\":\"white\"}},\"type\":\"table\"}],\"barpolar\":[{\"marker\":{\"line\":{\"color\":\"#E5ECF6\",\"width\":0.5},\"pattern\":{\"fillmode\":\"overlay\",\"size\":10,\"solidity\":0.2}},\"type\":\"barpolar\"}],\"pie\":[{\"automargin\":true,\"type\":\"pie\"}]},\"layout\":{\"autotypenumbers\":\"strict\",\"colorway\":[\"#636efa\",\"#EF553B\",\"#00cc96\",\"#ab63fa\",\"#FFA15A\",\"#19d3f3\",\"#FF6692\",\"#B6E880\",\"#FF97FF\",\"#FECB52\"],\"font\":{\"color\":\"#2a3f5f\"},\"hovermode\":\"closest\",\"hoverlabel\":{\"align\":\"left\"},\"paper_bgcolor\":\"white\",\"plot_bgcolor\":\"#E5ECF6\",\"polar\":{\"bgcolor\":\"#E5ECF6\",\"angularaxis\":{\"gridcolor\":\"white\",\"linecolor\":\"white\",\"ticks\":\"\"},\"radialaxis\":{\"gridcolor\":\"white\",\"linecolor\":\"white\",\"ticks\":\"\"}},\"ternary\":{\"bgcolor\":\"#E5ECF6\",\"aaxis\":{\"gridcolor\":\"white\",\"linecolor\":\"white\",\"ticks\":\"\"},\"baxis\":{\"gridcolor\":\"white\",\"linecolor\":\"white\",\"ticks\":\"\"},\"caxis\":{\"gridcolor\":\"white\",\"linecolor\":\"white\",\"ticks\":\"\"}},\"coloraxis\":{\"colorbar\":{\"outlinewidth\":0,\"ticks\":\"\"}},\"colorscale\":{\"sequential\":[[0.0,\"#0d0887\"],[0.1111111111111111,\"#46039f\"],[0.2222222222222222,\"#7201a8\"],[0.3333333333333333,\"#9c179e\"],[0.4444444444444444,\"#bd3786\"],[0.5555555555555556,\"#d8576b\"],[0.6666666666666666,\"#ed7953\"],[0.7777777777777778,\"#fb9f3a\"],[0.8888888888888888,\"#fdca26\"],[1.0,\"#f0f921\"]],\"sequentialminus\":[[0.0,\"#0d0887\"],[0.1111111111111111,\"#46039f\"],[0.2222222222222222,\"#7201a8\"],[0.3333333333333333,\"#9c179e\"],[0.4444444444444444,\"#bd3786\"],[0.5555555555555556,\"#d8576b\"],[0.6666666666666666,\"#ed7953\"],[0.7777777777777778,\"#fb9f3a\"],[0.8888888888888888,\"#fdca26\"],[1.0,\"#f0f921\"]],\"diverging\":[[0,\"#8e0152\"],[0.1,\"#c51b7d\"],[0.2,\"#de77ae\"],[0.3,\"#f1b6da\"],[0.4,\"#fde0ef\"],[0.5,\"#f7f7f7\"],[0.6,\"#e6f5d0\"],[0.7,\"#b8e186\"],[0.8,\"#7fbc41\"],[0.9,\"#4d9221\"],[1,\"#276419\"]]},\"xaxis\":{\"gridcolor\":\"white\",\"linecolor\":\"white\",\"ticks\":\"\",\"title\":{\"standoff\":15},\"zerolinecolor\":\"white\",\"automargin\":true,\"zerolinewidth\":2},\"yaxis\":{\"gridcolor\":\"white\",\"linecolor\":\"white\",\"ticks\":\"\",\"title\":{\"standoff\":15},\"zerolinecolor\":\"white\",\"automargin\":true,\"zerolinewidth\":2},\"scene\":{\"xaxis\":{\"backgroundcolor\":\"#E5ECF6\",\"gridcolor\":\"white\",\"linecolor\":\"white\",\"showbackground\":true,\"ticks\":\"\",\"zerolinecolor\":\"white\",\"gridwidth\":2},\"yaxis\":{\"backgroundcolor\":\"#E5ECF6\",\"gridcolor\":\"white\",\"linecolor\":\"white\",\"showbackground\":true,\"ticks\":\"\",\"zerolinecolor\":\"white\",\"gridwidth\":2},\"zaxis\":{\"backgroundcolor\":\"#E5ECF6\",\"gridcolor\":\"white\",\"linecolor\":\"white\",\"showbackground\":true,\"ticks\":\"\",\"zerolinecolor\":\"white\",\"gridwidth\":2}},\"shapedefaults\":{\"line\":{\"color\":\"#2a3f5f\"}},\"annotationdefaults\":{\"arrowcolor\":\"#2a3f5f\",\"arrowhead\":0,\"arrowwidth\":1},\"geo\":{\"bgcolor\":\"white\",\"landcolor\":\"#E5ECF6\",\"subunitcolor\":\"white\",\"showland\":true,\"showlakes\":true,\"lakecolor\":\"white\"},\"title\":{\"x\":0.05},\"mapbox\":{\"style\":\"light\"}}},\"xaxis\":{\"anchor\":\"y\",\"domain\":[0.0,1.0],\"title\":{\"text\":\"Dimensión 1\"}},\"yaxis\":{\"anchor\":\"x\",\"domain\":[0.0,1.0],\"title\":{\"text\":\"Dimensión 2\"}},\"legend\":{\"tracegroupgap\":0},\"margin\":{\"t\":60},\"title\":{\"text\":\"Visualización 2D de Embeddings de Noticias en Español\"}},                        {\"responsive\": true}                    ).then(function(){\n",
              "                            \n",
              "var gd = document.getElementById('9935bc29-ea98-494f-9dbd-3d2e450f8e80');\n",
              "var x = new MutationObserver(function (mutations, observer) {{\n",
              "        var display = window.getComputedStyle(gd).display;\n",
              "        if (!display || display === 'none') {{\n",
              "            console.log([gd, 'removed!']);\n",
              "            Plotly.purge(gd);\n",
              "            observer.disconnect();\n",
              "        }}\n",
              "}});\n",
              "\n",
              "// Listen for the removal of the full notebook cells\n",
              "var notebookContainer = gd.closest('#notebook-container');\n",
              "if (notebookContainer) {{\n",
              "    x.observe(notebookContainer, {childList: true});\n",
              "}}\n",
              "\n",
              "// Listen for the clearing of the current output cell\n",
              "var outputEl = gd.closest('.output');\n",
              "if (outputEl) {{\n",
              "    x.observe(outputEl, {childList: true});\n",
              "}}\n",
              "\n",
              "                        })                };                            </script>        </div>\n",
              "</body>\n",
              "</html>"
            ]
          },
          "metadata": {}
        }
      ]
    },
    {
      "cell_type": "code",
      "source": [
        "def plot_word_and_neighbors(target_word, model, topn=10):\n",
        "    \"\"\"\n",
        "    Encuentra los 'topn' vecinos más cercanos de una palabra,\n",
        "    reduce su dimensionalidad con t-SNE y los grafica.\n",
        "    \"\"\"\n",
        "    try:\n",
        "        # --- 1. Encontrar los vecinos y recolectar las palabras ---\n",
        "        # Añadimos la palabra objetivo a la lista de sus vecinos.\n",
        "        words_to_plot = [target_word]\n",
        "        # Obtenemos los vecinos más cercanos.\n",
        "        similar_words = model.wv.most_similar(target_word, topn=topn)\n",
        "        # Añadimos solo los nombres de las palabras vecinas a nuestra lista.\n",
        "        words_to_plot.extend([word for word, score in similar_words])\n",
        "\n",
        "        # --- 2. Obtener los vectores de todas esas palabras ---\n",
        "        vectors = model.wv[words_to_plot]\n",
        "\n",
        "        # --- 3. Reducir la dimensionalidad de SOLO estos vectores a 2D ---\n",
        "        tsne = TSNE(n_components=2, random_state=42, perplexity=min(10, len(vectors)-1))\n",
        "        vectors_2d = tsne.fit_transform(vectors)\n",
        "\n",
        "        # --- 4. Crear el gráfico con Plotly ---\n",
        "        # Creamos una lista para diferenciar la palabra objetivo de sus vecinos.\n",
        "        types = ['Palabra Objetivo'] + ['Vecino Cercano'] * topn\n",
        "\n",
        "        fig = px.scatter(\n",
        "            x=vectors_2d[:, 0],\n",
        "            y=vectors_2d[:, 1],\n",
        "            text=words_to_plot,\n",
        "            color=types,\n",
        "            color_discrete_map={\n",
        "                'Palabra Objetivo': 'red',\n",
        "                'Vecino Cercano': 'blue'\n",
        "            }\n",
        "        )\n",
        "\n",
        "        # Personalizamos el gráfico para que sea más claro\n",
        "        fig.update_traces(textposition='top center', marker={'size': 10})\n",
        "        fig.update_layout(\n",
        "            title=f\"Vecinos más Cercanos de '{target_word}'\",\n",
        "            xaxis_title=\"Dimensión 1 (t-SNE)\",\n",
        "            yaxis_title=\"Dimensión 2 (t-SNE)\",\n",
        "            showlegend=True\n",
        "        )\n",
        "        fig.show()\n",
        "\n",
        "    except KeyError:\n",
        "        print(f\"Error: La palabra '{target_word}' no se encuentra en el vocabulario del modelo.\")\n",
        "\n",
        "plot_word_and_neighbors(\"españa\", model)\n",
        "plot_word_and_neighbors(\"diputados\", model)\n",
        "plot_word_and_neighbors(\"cultura\", model)\n",
        "plot_word_and_neighbors(\"deportes\", model)\n",
        "plot_word_and_neighbors(\"economía\", model)"
      ],
      "metadata": {
        "colab": {
          "base_uri": "https://localhost:8080/",
          "height": 1000
        },
        "id": "kvliEp17NIqc",
        "outputId": "ce36df88-3917-4aa7-c2f3-0789be4997d9"
      },
      "execution_count": 129,
      "outputs": [
        {
          "output_type": "display_data",
          "data": {
            "text/html": [
              "<html>\n",
              "<head><meta charset=\"utf-8\" /></head>\n",
              "<body>\n",
              "    <div>            <script src=\"https://cdnjs.cloudflare.com/ajax/libs/mathjax/2.7.5/MathJax.js?config=TeX-AMS-MML_SVG\"></script><script type=\"text/javascript\">if (window.MathJax && window.MathJax.Hub && window.MathJax.Hub.Config) {window.MathJax.Hub.Config({SVG: {font: \"STIX-Web\"}});}</script>                <script type=\"text/javascript\">window.PlotlyConfig = {MathJaxConfig: 'local'};</script>\n",
              "        <script charset=\"utf-8\" src=\"https://cdn.plot.ly/plotly-2.35.2.min.js\"></script>                <div id=\"0bbb6c6b-28ad-49d7-bda1-652128ce14e5\" class=\"plotly-graph-div\" style=\"height:525px; width:100%;\"></div>            <script type=\"text/javascript\">                                    window.PLOTLYENV=window.PLOTLYENV || {};                                    if (document.getElementById(\"0bbb6c6b-28ad-49d7-bda1-652128ce14e5\")) {                    Plotly.newPlot(                        \"0bbb6c6b-28ad-49d7-bda1-652128ce14e5\",                        [{\"hovertemplate\":\"color=Palabra Objetivo\\u003cbr\\u003ex=%{x}\\u003cbr\\u003ey=%{y}\\u003cbr\\u003etext=%{text}\\u003cextra\\u003e\\u003c\\u002fextra\\u003e\",\"legendgroup\":\"Palabra Objetivo\",\"marker\":{\"color\":\"red\",\"symbol\":\"circle\",\"size\":10},\"mode\":\"markers+text\",\"name\":\"Palabra Objetivo\",\"orientation\":\"v\",\"showlegend\":true,\"text\":[\"españa\"],\"x\":[-20.533854],\"xaxis\":\"x\",\"y\":[-41.86408],\"yaxis\":\"y\",\"type\":\"scatter\",\"textposition\":\"top center\"},{\"hovertemplate\":\"color=Vecino Cercano\\u003cbr\\u003ex=%{x}\\u003cbr\\u003ey=%{y}\\u003cbr\\u003etext=%{text}\\u003cextra\\u003e\\u003c\\u002fextra\\u003e\",\"legendgroup\":\"Vecino Cercano\",\"marker\":{\"color\":\"blue\",\"symbol\":\"circle\",\"size\":10},\"mode\":\"markers+text\",\"name\":\"Vecino Cercano\",\"orientation\":\"v\",\"showlegend\":true,\"text\":[\"incipientes\",\"auza\",\"regresara\",\"desgobernadosbaleares\",\"nórdicos\",\"hispanoamérica\",\"ia\",\"despacio\",\"yugoslavia\",\"aboukhair\"],\"x\":[-1.4118849,10.501579,-20.178268,43.056072,13.771347,17.917793,-51.352814,-42.904915,35.42863,-20.906153],\"xaxis\":\"x\",\"y\":[-14.349736,15.242921,10.54156,23.557573,48.53931,-41.844307,21.685743,-14.991394,-11.190833,44.416523],\"yaxis\":\"y\",\"type\":\"scatter\",\"textposition\":\"top center\"}],                        {\"template\":{\"data\":{\"histogram2dcontour\":[{\"type\":\"histogram2dcontour\",\"colorbar\":{\"outlinewidth\":0,\"ticks\":\"\"},\"colorscale\":[[0.0,\"#0d0887\"],[0.1111111111111111,\"#46039f\"],[0.2222222222222222,\"#7201a8\"],[0.3333333333333333,\"#9c179e\"],[0.4444444444444444,\"#bd3786\"],[0.5555555555555556,\"#d8576b\"],[0.6666666666666666,\"#ed7953\"],[0.7777777777777778,\"#fb9f3a\"],[0.8888888888888888,\"#fdca26\"],[1.0,\"#f0f921\"]]}],\"choropleth\":[{\"type\":\"choropleth\",\"colorbar\":{\"outlinewidth\":0,\"ticks\":\"\"}}],\"histogram2d\":[{\"type\":\"histogram2d\",\"colorbar\":{\"outlinewidth\":0,\"ticks\":\"\"},\"colorscale\":[[0.0,\"#0d0887\"],[0.1111111111111111,\"#46039f\"],[0.2222222222222222,\"#7201a8\"],[0.3333333333333333,\"#9c179e\"],[0.4444444444444444,\"#bd3786\"],[0.5555555555555556,\"#d8576b\"],[0.6666666666666666,\"#ed7953\"],[0.7777777777777778,\"#fb9f3a\"],[0.8888888888888888,\"#fdca26\"],[1.0,\"#f0f921\"]]}],\"heatmap\":[{\"type\":\"heatmap\",\"colorbar\":{\"outlinewidth\":0,\"ticks\":\"\"},\"colorscale\":[[0.0,\"#0d0887\"],[0.1111111111111111,\"#46039f\"],[0.2222222222222222,\"#7201a8\"],[0.3333333333333333,\"#9c179e\"],[0.4444444444444444,\"#bd3786\"],[0.5555555555555556,\"#d8576b\"],[0.6666666666666666,\"#ed7953\"],[0.7777777777777778,\"#fb9f3a\"],[0.8888888888888888,\"#fdca26\"],[1.0,\"#f0f921\"]]}],\"heatmapgl\":[{\"type\":\"heatmapgl\",\"colorbar\":{\"outlinewidth\":0,\"ticks\":\"\"},\"colorscale\":[[0.0,\"#0d0887\"],[0.1111111111111111,\"#46039f\"],[0.2222222222222222,\"#7201a8\"],[0.3333333333333333,\"#9c179e\"],[0.4444444444444444,\"#bd3786\"],[0.5555555555555556,\"#d8576b\"],[0.6666666666666666,\"#ed7953\"],[0.7777777777777778,\"#fb9f3a\"],[0.8888888888888888,\"#fdca26\"],[1.0,\"#f0f921\"]]}],\"contourcarpet\":[{\"type\":\"contourcarpet\",\"colorbar\":{\"outlinewidth\":0,\"ticks\":\"\"}}],\"contour\":[{\"type\":\"contour\",\"colorbar\":{\"outlinewidth\":0,\"ticks\":\"\"},\"colorscale\":[[0.0,\"#0d0887\"],[0.1111111111111111,\"#46039f\"],[0.2222222222222222,\"#7201a8\"],[0.3333333333333333,\"#9c179e\"],[0.4444444444444444,\"#bd3786\"],[0.5555555555555556,\"#d8576b\"],[0.6666666666666666,\"#ed7953\"],[0.7777777777777778,\"#fb9f3a\"],[0.8888888888888888,\"#fdca26\"],[1.0,\"#f0f921\"]]}],\"surface\":[{\"type\":\"surface\",\"colorbar\":{\"outlinewidth\":0,\"ticks\":\"\"},\"colorscale\":[[0.0,\"#0d0887\"],[0.1111111111111111,\"#46039f\"],[0.2222222222222222,\"#7201a8\"],[0.3333333333333333,\"#9c179e\"],[0.4444444444444444,\"#bd3786\"],[0.5555555555555556,\"#d8576b\"],[0.6666666666666666,\"#ed7953\"],[0.7777777777777778,\"#fb9f3a\"],[0.8888888888888888,\"#fdca26\"],[1.0,\"#f0f921\"]]}],\"mesh3d\":[{\"type\":\"mesh3d\",\"colorbar\":{\"outlinewidth\":0,\"ticks\":\"\"}}],\"scatter\":[{\"fillpattern\":{\"fillmode\":\"overlay\",\"size\":10,\"solidity\":0.2},\"type\":\"scatter\"}],\"parcoords\":[{\"type\":\"parcoords\",\"line\":{\"colorbar\":{\"outlinewidth\":0,\"ticks\":\"\"}}}],\"scatterpolargl\":[{\"type\":\"scatterpolargl\",\"marker\":{\"colorbar\":{\"outlinewidth\":0,\"ticks\":\"\"}}}],\"bar\":[{\"error_x\":{\"color\":\"#2a3f5f\"},\"error_y\":{\"color\":\"#2a3f5f\"},\"marker\":{\"line\":{\"color\":\"#E5ECF6\",\"width\":0.5},\"pattern\":{\"fillmode\":\"overlay\",\"size\":10,\"solidity\":0.2}},\"type\":\"bar\"}],\"scattergeo\":[{\"type\":\"scattergeo\",\"marker\":{\"colorbar\":{\"outlinewidth\":0,\"ticks\":\"\"}}}],\"scatterpolar\":[{\"type\":\"scatterpolar\",\"marker\":{\"colorbar\":{\"outlinewidth\":0,\"ticks\":\"\"}}}],\"histogram\":[{\"marker\":{\"pattern\":{\"fillmode\":\"overlay\",\"size\":10,\"solidity\":0.2}},\"type\":\"histogram\"}],\"scattergl\":[{\"type\":\"scattergl\",\"marker\":{\"colorbar\":{\"outlinewidth\":0,\"ticks\":\"\"}}}],\"scatter3d\":[{\"type\":\"scatter3d\",\"line\":{\"colorbar\":{\"outlinewidth\":0,\"ticks\":\"\"}},\"marker\":{\"colorbar\":{\"outlinewidth\":0,\"ticks\":\"\"}}}],\"scattermapbox\":[{\"type\":\"scattermapbox\",\"marker\":{\"colorbar\":{\"outlinewidth\":0,\"ticks\":\"\"}}}],\"scatterternary\":[{\"type\":\"scatterternary\",\"marker\":{\"colorbar\":{\"outlinewidth\":0,\"ticks\":\"\"}}}],\"scattercarpet\":[{\"type\":\"scattercarpet\",\"marker\":{\"colorbar\":{\"outlinewidth\":0,\"ticks\":\"\"}}}],\"carpet\":[{\"aaxis\":{\"endlinecolor\":\"#2a3f5f\",\"gridcolor\":\"white\",\"linecolor\":\"white\",\"minorgridcolor\":\"white\",\"startlinecolor\":\"#2a3f5f\"},\"baxis\":{\"endlinecolor\":\"#2a3f5f\",\"gridcolor\":\"white\",\"linecolor\":\"white\",\"minorgridcolor\":\"white\",\"startlinecolor\":\"#2a3f5f\"},\"type\":\"carpet\"}],\"table\":[{\"cells\":{\"fill\":{\"color\":\"#EBF0F8\"},\"line\":{\"color\":\"white\"}},\"header\":{\"fill\":{\"color\":\"#C8D4E3\"},\"line\":{\"color\":\"white\"}},\"type\":\"table\"}],\"barpolar\":[{\"marker\":{\"line\":{\"color\":\"#E5ECF6\",\"width\":0.5},\"pattern\":{\"fillmode\":\"overlay\",\"size\":10,\"solidity\":0.2}},\"type\":\"barpolar\"}],\"pie\":[{\"automargin\":true,\"type\":\"pie\"}]},\"layout\":{\"autotypenumbers\":\"strict\",\"colorway\":[\"#636efa\",\"#EF553B\",\"#00cc96\",\"#ab63fa\",\"#FFA15A\",\"#19d3f3\",\"#FF6692\",\"#B6E880\",\"#FF97FF\",\"#FECB52\"],\"font\":{\"color\":\"#2a3f5f\"},\"hovermode\":\"closest\",\"hoverlabel\":{\"align\":\"left\"},\"paper_bgcolor\":\"white\",\"plot_bgcolor\":\"#E5ECF6\",\"polar\":{\"bgcolor\":\"#E5ECF6\",\"angularaxis\":{\"gridcolor\":\"white\",\"linecolor\":\"white\",\"ticks\":\"\"},\"radialaxis\":{\"gridcolor\":\"white\",\"linecolor\":\"white\",\"ticks\":\"\"}},\"ternary\":{\"bgcolor\":\"#E5ECF6\",\"aaxis\":{\"gridcolor\":\"white\",\"linecolor\":\"white\",\"ticks\":\"\"},\"baxis\":{\"gridcolor\":\"white\",\"linecolor\":\"white\",\"ticks\":\"\"},\"caxis\":{\"gridcolor\":\"white\",\"linecolor\":\"white\",\"ticks\":\"\"}},\"coloraxis\":{\"colorbar\":{\"outlinewidth\":0,\"ticks\":\"\"}},\"colorscale\":{\"sequential\":[[0.0,\"#0d0887\"],[0.1111111111111111,\"#46039f\"],[0.2222222222222222,\"#7201a8\"],[0.3333333333333333,\"#9c179e\"],[0.4444444444444444,\"#bd3786\"],[0.5555555555555556,\"#d8576b\"],[0.6666666666666666,\"#ed7953\"],[0.7777777777777778,\"#fb9f3a\"],[0.8888888888888888,\"#fdca26\"],[1.0,\"#f0f921\"]],\"sequentialminus\":[[0.0,\"#0d0887\"],[0.1111111111111111,\"#46039f\"],[0.2222222222222222,\"#7201a8\"],[0.3333333333333333,\"#9c179e\"],[0.4444444444444444,\"#bd3786\"],[0.5555555555555556,\"#d8576b\"],[0.6666666666666666,\"#ed7953\"],[0.7777777777777778,\"#fb9f3a\"],[0.8888888888888888,\"#fdca26\"],[1.0,\"#f0f921\"]],\"diverging\":[[0,\"#8e0152\"],[0.1,\"#c51b7d\"],[0.2,\"#de77ae\"],[0.3,\"#f1b6da\"],[0.4,\"#fde0ef\"],[0.5,\"#f7f7f7\"],[0.6,\"#e6f5d0\"],[0.7,\"#b8e186\"],[0.8,\"#7fbc41\"],[0.9,\"#4d9221\"],[1,\"#276419\"]]},\"xaxis\":{\"gridcolor\":\"white\",\"linecolor\":\"white\",\"ticks\":\"\",\"title\":{\"standoff\":15},\"zerolinecolor\":\"white\",\"automargin\":true,\"zerolinewidth\":2},\"yaxis\":{\"gridcolor\":\"white\",\"linecolor\":\"white\",\"ticks\":\"\",\"title\":{\"standoff\":15},\"zerolinecolor\":\"white\",\"automargin\":true,\"zerolinewidth\":2},\"scene\":{\"xaxis\":{\"backgroundcolor\":\"#E5ECF6\",\"gridcolor\":\"white\",\"linecolor\":\"white\",\"showbackground\":true,\"ticks\":\"\",\"zerolinecolor\":\"white\",\"gridwidth\":2},\"yaxis\":{\"backgroundcolor\":\"#E5ECF6\",\"gridcolor\":\"white\",\"linecolor\":\"white\",\"showbackground\":true,\"ticks\":\"\",\"zerolinecolor\":\"white\",\"gridwidth\":2},\"zaxis\":{\"backgroundcolor\":\"#E5ECF6\",\"gridcolor\":\"white\",\"linecolor\":\"white\",\"showbackground\":true,\"ticks\":\"\",\"zerolinecolor\":\"white\",\"gridwidth\":2}},\"shapedefaults\":{\"line\":{\"color\":\"#2a3f5f\"}},\"annotationdefaults\":{\"arrowcolor\":\"#2a3f5f\",\"arrowhead\":0,\"arrowwidth\":1},\"geo\":{\"bgcolor\":\"white\",\"landcolor\":\"#E5ECF6\",\"subunitcolor\":\"white\",\"showland\":true,\"showlakes\":true,\"lakecolor\":\"white\"},\"title\":{\"x\":0.05},\"mapbox\":{\"style\":\"light\"}}},\"xaxis\":{\"anchor\":\"y\",\"domain\":[0.0,1.0],\"title\":{\"text\":\"Dimensión 1 (t-SNE)\"}},\"yaxis\":{\"anchor\":\"x\",\"domain\":[0.0,1.0],\"title\":{\"text\":\"Dimensión 2 (t-SNE)\"}},\"legend\":{\"title\":{\"text\":\"color\"},\"tracegroupgap\":0},\"margin\":{\"t\":60},\"title\":{\"text\":\"Vecinos más Cercanos de 'españa'\"},\"showlegend\":true},                        {\"responsive\": true}                    ).then(function(){\n",
              "                            \n",
              "var gd = document.getElementById('0bbb6c6b-28ad-49d7-bda1-652128ce14e5');\n",
              "var x = new MutationObserver(function (mutations, observer) {{\n",
              "        var display = window.getComputedStyle(gd).display;\n",
              "        if (!display || display === 'none') {{\n",
              "            console.log([gd, 'removed!']);\n",
              "            Plotly.purge(gd);\n",
              "            observer.disconnect();\n",
              "        }}\n",
              "}});\n",
              "\n",
              "// Listen for the removal of the full notebook cells\n",
              "var notebookContainer = gd.closest('#notebook-container');\n",
              "if (notebookContainer) {{\n",
              "    x.observe(notebookContainer, {childList: true});\n",
              "}}\n",
              "\n",
              "// Listen for the clearing of the current output cell\n",
              "var outputEl = gd.closest('.output');\n",
              "if (outputEl) {{\n",
              "    x.observe(outputEl, {childList: true});\n",
              "}}\n",
              "\n",
              "                        })                };                            </script>        </div>\n",
              "</body>\n",
              "</html>"
            ]
          },
          "metadata": {}
        },
        {
          "output_type": "display_data",
          "data": {
            "text/html": [
              "<html>\n",
              "<head><meta charset=\"utf-8\" /></head>\n",
              "<body>\n",
              "    <div>            <script src=\"https://cdnjs.cloudflare.com/ajax/libs/mathjax/2.7.5/MathJax.js?config=TeX-AMS-MML_SVG\"></script><script type=\"text/javascript\">if (window.MathJax && window.MathJax.Hub && window.MathJax.Hub.Config) {window.MathJax.Hub.Config({SVG: {font: \"STIX-Web\"}});}</script>                <script type=\"text/javascript\">window.PlotlyConfig = {MathJaxConfig: 'local'};</script>\n",
              "        <script charset=\"utf-8\" src=\"https://cdn.plot.ly/plotly-2.35.2.min.js\"></script>                <div id=\"3761953f-e61c-4d71-a7ce-7c9793b4fe0c\" class=\"plotly-graph-div\" style=\"height:525px; width:100%;\"></div>            <script type=\"text/javascript\">                                    window.PLOTLYENV=window.PLOTLYENV || {};                                    if (document.getElementById(\"3761953f-e61c-4d71-a7ce-7c9793b4fe0c\")) {                    Plotly.newPlot(                        \"3761953f-e61c-4d71-a7ce-7c9793b4fe0c\",                        [{\"hovertemplate\":\"color=Palabra Objetivo\\u003cbr\\u003ex=%{x}\\u003cbr\\u003ey=%{y}\\u003cbr\\u003etext=%{text}\\u003cextra\\u003e\\u003c\\u002fextra\\u003e\",\"legendgroup\":\"Palabra Objetivo\",\"marker\":{\"color\":\"red\",\"symbol\":\"circle\",\"size\":10},\"mode\":\"markers+text\",\"name\":\"Palabra Objetivo\",\"orientation\":\"v\",\"showlegend\":true,\"text\":[\"diputados\"],\"x\":[-5.531557],\"xaxis\":\"x\",\"y\":[-17.886526],\"yaxis\":\"y\",\"type\":\"scatter\",\"textposition\":\"top center\"},{\"hovertemplate\":\"color=Vecino Cercano\\u003cbr\\u003ex=%{x}\\u003cbr\\u003ey=%{y}\\u003cbr\\u003etext=%{text}\\u003cextra\\u003e\\u003c\\u002fextra\\u003e\",\"legendgroup\":\"Vecino Cercano\",\"marker\":{\"color\":\"blue\",\"symbol\":\"circle\",\"size\":10},\"mode\":\"markers+text\",\"name\":\"Vecino Cercano\",\"orientation\":\"v\",\"showlegend\":true,\"text\":[\"congreso\",\"senadores\",\"parlamentarios\",\"escaños\",\"eurodiputados\",\"diputadas\",\"votos\",\"ediles\",\"díscolos\",\"irrumpiría\"],\"x\":[8.884665,9.799685,-12.084947,-4.611151,3.2018058,1.7345197,-12.003045,3.8164678,0.7336448,-5.3495464],\"xaxis\":\"x\",\"y\":[-12.815324,-4.429407,-12.590151,0.97081614,-20.090563,-5.0548215,-3.3049085,2.7647495,-12.459785,-8.025472],\"yaxis\":\"y\",\"type\":\"scatter\",\"textposition\":\"top center\"}],                        {\"template\":{\"data\":{\"histogram2dcontour\":[{\"type\":\"histogram2dcontour\",\"colorbar\":{\"outlinewidth\":0,\"ticks\":\"\"},\"colorscale\":[[0.0,\"#0d0887\"],[0.1111111111111111,\"#46039f\"],[0.2222222222222222,\"#7201a8\"],[0.3333333333333333,\"#9c179e\"],[0.4444444444444444,\"#bd3786\"],[0.5555555555555556,\"#d8576b\"],[0.6666666666666666,\"#ed7953\"],[0.7777777777777778,\"#fb9f3a\"],[0.8888888888888888,\"#fdca26\"],[1.0,\"#f0f921\"]]}],\"choropleth\":[{\"type\":\"choropleth\",\"colorbar\":{\"outlinewidth\":0,\"ticks\":\"\"}}],\"histogram2d\":[{\"type\":\"histogram2d\",\"colorbar\":{\"outlinewidth\":0,\"ticks\":\"\"},\"colorscale\":[[0.0,\"#0d0887\"],[0.1111111111111111,\"#46039f\"],[0.2222222222222222,\"#7201a8\"],[0.3333333333333333,\"#9c179e\"],[0.4444444444444444,\"#bd3786\"],[0.5555555555555556,\"#d8576b\"],[0.6666666666666666,\"#ed7953\"],[0.7777777777777778,\"#fb9f3a\"],[0.8888888888888888,\"#fdca26\"],[1.0,\"#f0f921\"]]}],\"heatmap\":[{\"type\":\"heatmap\",\"colorbar\":{\"outlinewidth\":0,\"ticks\":\"\"},\"colorscale\":[[0.0,\"#0d0887\"],[0.1111111111111111,\"#46039f\"],[0.2222222222222222,\"#7201a8\"],[0.3333333333333333,\"#9c179e\"],[0.4444444444444444,\"#bd3786\"],[0.5555555555555556,\"#d8576b\"],[0.6666666666666666,\"#ed7953\"],[0.7777777777777778,\"#fb9f3a\"],[0.8888888888888888,\"#fdca26\"],[1.0,\"#f0f921\"]]}],\"heatmapgl\":[{\"type\":\"heatmapgl\",\"colorbar\":{\"outlinewidth\":0,\"ticks\":\"\"},\"colorscale\":[[0.0,\"#0d0887\"],[0.1111111111111111,\"#46039f\"],[0.2222222222222222,\"#7201a8\"],[0.3333333333333333,\"#9c179e\"],[0.4444444444444444,\"#bd3786\"],[0.5555555555555556,\"#d8576b\"],[0.6666666666666666,\"#ed7953\"],[0.7777777777777778,\"#fb9f3a\"],[0.8888888888888888,\"#fdca26\"],[1.0,\"#f0f921\"]]}],\"contourcarpet\":[{\"type\":\"contourcarpet\",\"colorbar\":{\"outlinewidth\":0,\"ticks\":\"\"}}],\"contour\":[{\"type\":\"contour\",\"colorbar\":{\"outlinewidth\":0,\"ticks\":\"\"},\"colorscale\":[[0.0,\"#0d0887\"],[0.1111111111111111,\"#46039f\"],[0.2222222222222222,\"#7201a8\"],[0.3333333333333333,\"#9c179e\"],[0.4444444444444444,\"#bd3786\"],[0.5555555555555556,\"#d8576b\"],[0.6666666666666666,\"#ed7953\"],[0.7777777777777778,\"#fb9f3a\"],[0.8888888888888888,\"#fdca26\"],[1.0,\"#f0f921\"]]}],\"surface\":[{\"type\":\"surface\",\"colorbar\":{\"outlinewidth\":0,\"ticks\":\"\"},\"colorscale\":[[0.0,\"#0d0887\"],[0.1111111111111111,\"#46039f\"],[0.2222222222222222,\"#7201a8\"],[0.3333333333333333,\"#9c179e\"],[0.4444444444444444,\"#bd3786\"],[0.5555555555555556,\"#d8576b\"],[0.6666666666666666,\"#ed7953\"],[0.7777777777777778,\"#fb9f3a\"],[0.8888888888888888,\"#fdca26\"],[1.0,\"#f0f921\"]]}],\"mesh3d\":[{\"type\":\"mesh3d\",\"colorbar\":{\"outlinewidth\":0,\"ticks\":\"\"}}],\"scatter\":[{\"fillpattern\":{\"fillmode\":\"overlay\",\"size\":10,\"solidity\":0.2},\"type\":\"scatter\"}],\"parcoords\":[{\"type\":\"parcoords\",\"line\":{\"colorbar\":{\"outlinewidth\":0,\"ticks\":\"\"}}}],\"scatterpolargl\":[{\"type\":\"scatterpolargl\",\"marker\":{\"colorbar\":{\"outlinewidth\":0,\"ticks\":\"\"}}}],\"bar\":[{\"error_x\":{\"color\":\"#2a3f5f\"},\"error_y\":{\"color\":\"#2a3f5f\"},\"marker\":{\"line\":{\"color\":\"#E5ECF6\",\"width\":0.5},\"pattern\":{\"fillmode\":\"overlay\",\"size\":10,\"solidity\":0.2}},\"type\":\"bar\"}],\"scattergeo\":[{\"type\":\"scattergeo\",\"marker\":{\"colorbar\":{\"outlinewidth\":0,\"ticks\":\"\"}}}],\"scatterpolar\":[{\"type\":\"scatterpolar\",\"marker\":{\"colorbar\":{\"outlinewidth\":0,\"ticks\":\"\"}}}],\"histogram\":[{\"marker\":{\"pattern\":{\"fillmode\":\"overlay\",\"size\":10,\"solidity\":0.2}},\"type\":\"histogram\"}],\"scattergl\":[{\"type\":\"scattergl\",\"marker\":{\"colorbar\":{\"outlinewidth\":0,\"ticks\":\"\"}}}],\"scatter3d\":[{\"type\":\"scatter3d\",\"line\":{\"colorbar\":{\"outlinewidth\":0,\"ticks\":\"\"}},\"marker\":{\"colorbar\":{\"outlinewidth\":0,\"ticks\":\"\"}}}],\"scattermapbox\":[{\"type\":\"scattermapbox\",\"marker\":{\"colorbar\":{\"outlinewidth\":0,\"ticks\":\"\"}}}],\"scatterternary\":[{\"type\":\"scatterternary\",\"marker\":{\"colorbar\":{\"outlinewidth\":0,\"ticks\":\"\"}}}],\"scattercarpet\":[{\"type\":\"scattercarpet\",\"marker\":{\"colorbar\":{\"outlinewidth\":0,\"ticks\":\"\"}}}],\"carpet\":[{\"aaxis\":{\"endlinecolor\":\"#2a3f5f\",\"gridcolor\":\"white\",\"linecolor\":\"white\",\"minorgridcolor\":\"white\",\"startlinecolor\":\"#2a3f5f\"},\"baxis\":{\"endlinecolor\":\"#2a3f5f\",\"gridcolor\":\"white\",\"linecolor\":\"white\",\"minorgridcolor\":\"white\",\"startlinecolor\":\"#2a3f5f\"},\"type\":\"carpet\"}],\"table\":[{\"cells\":{\"fill\":{\"color\":\"#EBF0F8\"},\"line\":{\"color\":\"white\"}},\"header\":{\"fill\":{\"color\":\"#C8D4E3\"},\"line\":{\"color\":\"white\"}},\"type\":\"table\"}],\"barpolar\":[{\"marker\":{\"line\":{\"color\":\"#E5ECF6\",\"width\":0.5},\"pattern\":{\"fillmode\":\"overlay\",\"size\":10,\"solidity\":0.2}},\"type\":\"barpolar\"}],\"pie\":[{\"automargin\":true,\"type\":\"pie\"}]},\"layout\":{\"autotypenumbers\":\"strict\",\"colorway\":[\"#636efa\",\"#EF553B\",\"#00cc96\",\"#ab63fa\",\"#FFA15A\",\"#19d3f3\",\"#FF6692\",\"#B6E880\",\"#FF97FF\",\"#FECB52\"],\"font\":{\"color\":\"#2a3f5f\"},\"hovermode\":\"closest\",\"hoverlabel\":{\"align\":\"left\"},\"paper_bgcolor\":\"white\",\"plot_bgcolor\":\"#E5ECF6\",\"polar\":{\"bgcolor\":\"#E5ECF6\",\"angularaxis\":{\"gridcolor\":\"white\",\"linecolor\":\"white\",\"ticks\":\"\"},\"radialaxis\":{\"gridcolor\":\"white\",\"linecolor\":\"white\",\"ticks\":\"\"}},\"ternary\":{\"bgcolor\":\"#E5ECF6\",\"aaxis\":{\"gridcolor\":\"white\",\"linecolor\":\"white\",\"ticks\":\"\"},\"baxis\":{\"gridcolor\":\"white\",\"linecolor\":\"white\",\"ticks\":\"\"},\"caxis\":{\"gridcolor\":\"white\",\"linecolor\":\"white\",\"ticks\":\"\"}},\"coloraxis\":{\"colorbar\":{\"outlinewidth\":0,\"ticks\":\"\"}},\"colorscale\":{\"sequential\":[[0.0,\"#0d0887\"],[0.1111111111111111,\"#46039f\"],[0.2222222222222222,\"#7201a8\"],[0.3333333333333333,\"#9c179e\"],[0.4444444444444444,\"#bd3786\"],[0.5555555555555556,\"#d8576b\"],[0.6666666666666666,\"#ed7953\"],[0.7777777777777778,\"#fb9f3a\"],[0.8888888888888888,\"#fdca26\"],[1.0,\"#f0f921\"]],\"sequentialminus\":[[0.0,\"#0d0887\"],[0.1111111111111111,\"#46039f\"],[0.2222222222222222,\"#7201a8\"],[0.3333333333333333,\"#9c179e\"],[0.4444444444444444,\"#bd3786\"],[0.5555555555555556,\"#d8576b\"],[0.6666666666666666,\"#ed7953\"],[0.7777777777777778,\"#fb9f3a\"],[0.8888888888888888,\"#fdca26\"],[1.0,\"#f0f921\"]],\"diverging\":[[0,\"#8e0152\"],[0.1,\"#c51b7d\"],[0.2,\"#de77ae\"],[0.3,\"#f1b6da\"],[0.4,\"#fde0ef\"],[0.5,\"#f7f7f7\"],[0.6,\"#e6f5d0\"],[0.7,\"#b8e186\"],[0.8,\"#7fbc41\"],[0.9,\"#4d9221\"],[1,\"#276419\"]]},\"xaxis\":{\"gridcolor\":\"white\",\"linecolor\":\"white\",\"ticks\":\"\",\"title\":{\"standoff\":15},\"zerolinecolor\":\"white\",\"automargin\":true,\"zerolinewidth\":2},\"yaxis\":{\"gridcolor\":\"white\",\"linecolor\":\"white\",\"ticks\":\"\",\"title\":{\"standoff\":15},\"zerolinecolor\":\"white\",\"automargin\":true,\"zerolinewidth\":2},\"scene\":{\"xaxis\":{\"backgroundcolor\":\"#E5ECF6\",\"gridcolor\":\"white\",\"linecolor\":\"white\",\"showbackground\":true,\"ticks\":\"\",\"zerolinecolor\":\"white\",\"gridwidth\":2},\"yaxis\":{\"backgroundcolor\":\"#E5ECF6\",\"gridcolor\":\"white\",\"linecolor\":\"white\",\"showbackground\":true,\"ticks\":\"\",\"zerolinecolor\":\"white\",\"gridwidth\":2},\"zaxis\":{\"backgroundcolor\":\"#E5ECF6\",\"gridcolor\":\"white\",\"linecolor\":\"white\",\"showbackground\":true,\"ticks\":\"\",\"zerolinecolor\":\"white\",\"gridwidth\":2}},\"shapedefaults\":{\"line\":{\"color\":\"#2a3f5f\"}},\"annotationdefaults\":{\"arrowcolor\":\"#2a3f5f\",\"arrowhead\":0,\"arrowwidth\":1},\"geo\":{\"bgcolor\":\"white\",\"landcolor\":\"#E5ECF6\",\"subunitcolor\":\"white\",\"showland\":true,\"showlakes\":true,\"lakecolor\":\"white\"},\"title\":{\"x\":0.05},\"mapbox\":{\"style\":\"light\"}}},\"xaxis\":{\"anchor\":\"y\",\"domain\":[0.0,1.0],\"title\":{\"text\":\"Dimensión 1 (t-SNE)\"}},\"yaxis\":{\"anchor\":\"x\",\"domain\":[0.0,1.0],\"title\":{\"text\":\"Dimensión 2 (t-SNE)\"}},\"legend\":{\"title\":{\"text\":\"color\"},\"tracegroupgap\":0},\"margin\":{\"t\":60},\"title\":{\"text\":\"Vecinos más Cercanos de 'diputados'\"},\"showlegend\":true},                        {\"responsive\": true}                    ).then(function(){\n",
              "                            \n",
              "var gd = document.getElementById('3761953f-e61c-4d71-a7ce-7c9793b4fe0c');\n",
              "var x = new MutationObserver(function (mutations, observer) {{\n",
              "        var display = window.getComputedStyle(gd).display;\n",
              "        if (!display || display === 'none') {{\n",
              "            console.log([gd, 'removed!']);\n",
              "            Plotly.purge(gd);\n",
              "            observer.disconnect();\n",
              "        }}\n",
              "}});\n",
              "\n",
              "// Listen for the removal of the full notebook cells\n",
              "var notebookContainer = gd.closest('#notebook-container');\n",
              "if (notebookContainer) {{\n",
              "    x.observe(notebookContainer, {childList: true});\n",
              "}}\n",
              "\n",
              "// Listen for the clearing of the current output cell\n",
              "var outputEl = gd.closest('.output');\n",
              "if (outputEl) {{\n",
              "    x.observe(outputEl, {childList: true});\n",
              "}}\n",
              "\n",
              "                        })                };                            </script>        </div>\n",
              "</body>\n",
              "</html>"
            ]
          },
          "metadata": {}
        },
        {
          "output_type": "display_data",
          "data": {
            "text/html": [
              "<html>\n",
              "<head><meta charset=\"utf-8\" /></head>\n",
              "<body>\n",
              "    <div>            <script src=\"https://cdnjs.cloudflare.com/ajax/libs/mathjax/2.7.5/MathJax.js?config=TeX-AMS-MML_SVG\"></script><script type=\"text/javascript\">if (window.MathJax && window.MathJax.Hub && window.MathJax.Hub.Config) {window.MathJax.Hub.Config({SVG: {font: \"STIX-Web\"}});}</script>                <script type=\"text/javascript\">window.PlotlyConfig = {MathJaxConfig: 'local'};</script>\n",
              "        <script charset=\"utf-8\" src=\"https://cdn.plot.ly/plotly-2.35.2.min.js\"></script>                <div id=\"4aef1d39-743f-465d-a506-cb047ab2037b\" class=\"plotly-graph-div\" style=\"height:525px; width:100%;\"></div>            <script type=\"text/javascript\">                                    window.PLOTLYENV=window.PLOTLYENV || {};                                    if (document.getElementById(\"4aef1d39-743f-465d-a506-cb047ab2037b\")) {                    Plotly.newPlot(                        \"4aef1d39-743f-465d-a506-cb047ab2037b\",                        [{\"hovertemplate\":\"color=Palabra Objetivo\\u003cbr\\u003ex=%{x}\\u003cbr\\u003ey=%{y}\\u003cbr\\u003etext=%{text}\\u003cextra\\u003e\\u003c\\u002fextra\\u003e\",\"legendgroup\":\"Palabra Objetivo\",\"marker\":{\"color\":\"red\",\"symbol\":\"circle\",\"size\":10},\"mode\":\"markers+text\",\"name\":\"Palabra Objetivo\",\"orientation\":\"v\",\"showlegend\":true,\"text\":[\"cultura\"],\"x\":[38.44152],\"xaxis\":\"x\",\"y\":[-32.163334],\"yaxis\":\"y\",\"type\":\"scatter\",\"textposition\":\"top center\"},{\"hovertemplate\":\"color=Vecino Cercano\\u003cbr\\u003ex=%{x}\\u003cbr\\u003ey=%{y}\\u003cbr\\u003etext=%{text}\\u003cextra\\u003e\\u003c\\u002fextra\\u003e\",\"legendgroup\":\"Vecino Cercano\",\"marker\":{\"color\":\"blue\",\"symbol\":\"circle\",\"size\":10},\"mode\":\"markers+text\",\"name\":\"Vecino Cercano\",\"orientation\":\"v\",\"showlegend\":true,\"text\":[\"deporte\",\"pop\",\"ciencia\",\"dilatada\",\"antonia\",\"educación\",\"agricultura\",\"guirao\",\"vertebrador\",\"expande\"],\"x\":[-31.300323,60.430458,42.702682,-44.022343,-9.883588,23.965303,7.382276,-35.184986,5.148586,0.55449843],\"xaxis\":\"x\",\"y\":[-38.712982,-0.18981929,38.31488,-2.330972,12.479512,6.316381,-56.314163,38.720413,47.18148,-19.967619],\"yaxis\":\"y\",\"type\":\"scatter\",\"textposition\":\"top center\"}],                        {\"template\":{\"data\":{\"histogram2dcontour\":[{\"type\":\"histogram2dcontour\",\"colorbar\":{\"outlinewidth\":0,\"ticks\":\"\"},\"colorscale\":[[0.0,\"#0d0887\"],[0.1111111111111111,\"#46039f\"],[0.2222222222222222,\"#7201a8\"],[0.3333333333333333,\"#9c179e\"],[0.4444444444444444,\"#bd3786\"],[0.5555555555555556,\"#d8576b\"],[0.6666666666666666,\"#ed7953\"],[0.7777777777777778,\"#fb9f3a\"],[0.8888888888888888,\"#fdca26\"],[1.0,\"#f0f921\"]]}],\"choropleth\":[{\"type\":\"choropleth\",\"colorbar\":{\"outlinewidth\":0,\"ticks\":\"\"}}],\"histogram2d\":[{\"type\":\"histogram2d\",\"colorbar\":{\"outlinewidth\":0,\"ticks\":\"\"},\"colorscale\":[[0.0,\"#0d0887\"],[0.1111111111111111,\"#46039f\"],[0.2222222222222222,\"#7201a8\"],[0.3333333333333333,\"#9c179e\"],[0.4444444444444444,\"#bd3786\"],[0.5555555555555556,\"#d8576b\"],[0.6666666666666666,\"#ed7953\"],[0.7777777777777778,\"#fb9f3a\"],[0.8888888888888888,\"#fdca26\"],[1.0,\"#f0f921\"]]}],\"heatmap\":[{\"type\":\"heatmap\",\"colorbar\":{\"outlinewidth\":0,\"ticks\":\"\"},\"colorscale\":[[0.0,\"#0d0887\"],[0.1111111111111111,\"#46039f\"],[0.2222222222222222,\"#7201a8\"],[0.3333333333333333,\"#9c179e\"],[0.4444444444444444,\"#bd3786\"],[0.5555555555555556,\"#d8576b\"],[0.6666666666666666,\"#ed7953\"],[0.7777777777777778,\"#fb9f3a\"],[0.8888888888888888,\"#fdca26\"],[1.0,\"#f0f921\"]]}],\"heatmapgl\":[{\"type\":\"heatmapgl\",\"colorbar\":{\"outlinewidth\":0,\"ticks\":\"\"},\"colorscale\":[[0.0,\"#0d0887\"],[0.1111111111111111,\"#46039f\"],[0.2222222222222222,\"#7201a8\"],[0.3333333333333333,\"#9c179e\"],[0.4444444444444444,\"#bd3786\"],[0.5555555555555556,\"#d8576b\"],[0.6666666666666666,\"#ed7953\"],[0.7777777777777778,\"#fb9f3a\"],[0.8888888888888888,\"#fdca26\"],[1.0,\"#f0f921\"]]}],\"contourcarpet\":[{\"type\":\"contourcarpet\",\"colorbar\":{\"outlinewidth\":0,\"ticks\":\"\"}}],\"contour\":[{\"type\":\"contour\",\"colorbar\":{\"outlinewidth\":0,\"ticks\":\"\"},\"colorscale\":[[0.0,\"#0d0887\"],[0.1111111111111111,\"#46039f\"],[0.2222222222222222,\"#7201a8\"],[0.3333333333333333,\"#9c179e\"],[0.4444444444444444,\"#bd3786\"],[0.5555555555555556,\"#d8576b\"],[0.6666666666666666,\"#ed7953\"],[0.7777777777777778,\"#fb9f3a\"],[0.8888888888888888,\"#fdca26\"],[1.0,\"#f0f921\"]]}],\"surface\":[{\"type\":\"surface\",\"colorbar\":{\"outlinewidth\":0,\"ticks\":\"\"},\"colorscale\":[[0.0,\"#0d0887\"],[0.1111111111111111,\"#46039f\"],[0.2222222222222222,\"#7201a8\"],[0.3333333333333333,\"#9c179e\"],[0.4444444444444444,\"#bd3786\"],[0.5555555555555556,\"#d8576b\"],[0.6666666666666666,\"#ed7953\"],[0.7777777777777778,\"#fb9f3a\"],[0.8888888888888888,\"#fdca26\"],[1.0,\"#f0f921\"]]}],\"mesh3d\":[{\"type\":\"mesh3d\",\"colorbar\":{\"outlinewidth\":0,\"ticks\":\"\"}}],\"scatter\":[{\"fillpattern\":{\"fillmode\":\"overlay\",\"size\":10,\"solidity\":0.2},\"type\":\"scatter\"}],\"parcoords\":[{\"type\":\"parcoords\",\"line\":{\"colorbar\":{\"outlinewidth\":0,\"ticks\":\"\"}}}],\"scatterpolargl\":[{\"type\":\"scatterpolargl\",\"marker\":{\"colorbar\":{\"outlinewidth\":0,\"ticks\":\"\"}}}],\"bar\":[{\"error_x\":{\"color\":\"#2a3f5f\"},\"error_y\":{\"color\":\"#2a3f5f\"},\"marker\":{\"line\":{\"color\":\"#E5ECF6\",\"width\":0.5},\"pattern\":{\"fillmode\":\"overlay\",\"size\":10,\"solidity\":0.2}},\"type\":\"bar\"}],\"scattergeo\":[{\"type\":\"scattergeo\",\"marker\":{\"colorbar\":{\"outlinewidth\":0,\"ticks\":\"\"}}}],\"scatterpolar\":[{\"type\":\"scatterpolar\",\"marker\":{\"colorbar\":{\"outlinewidth\":0,\"ticks\":\"\"}}}],\"histogram\":[{\"marker\":{\"pattern\":{\"fillmode\":\"overlay\",\"size\":10,\"solidity\":0.2}},\"type\":\"histogram\"}],\"scattergl\":[{\"type\":\"scattergl\",\"marker\":{\"colorbar\":{\"outlinewidth\":0,\"ticks\":\"\"}}}],\"scatter3d\":[{\"type\":\"scatter3d\",\"line\":{\"colorbar\":{\"outlinewidth\":0,\"ticks\":\"\"}},\"marker\":{\"colorbar\":{\"outlinewidth\":0,\"ticks\":\"\"}}}],\"scattermapbox\":[{\"type\":\"scattermapbox\",\"marker\":{\"colorbar\":{\"outlinewidth\":0,\"ticks\":\"\"}}}],\"scatterternary\":[{\"type\":\"scatterternary\",\"marker\":{\"colorbar\":{\"outlinewidth\":0,\"ticks\":\"\"}}}],\"scattercarpet\":[{\"type\":\"scattercarpet\",\"marker\":{\"colorbar\":{\"outlinewidth\":0,\"ticks\":\"\"}}}],\"carpet\":[{\"aaxis\":{\"endlinecolor\":\"#2a3f5f\",\"gridcolor\":\"white\",\"linecolor\":\"white\",\"minorgridcolor\":\"white\",\"startlinecolor\":\"#2a3f5f\"},\"baxis\":{\"endlinecolor\":\"#2a3f5f\",\"gridcolor\":\"white\",\"linecolor\":\"white\",\"minorgridcolor\":\"white\",\"startlinecolor\":\"#2a3f5f\"},\"type\":\"carpet\"}],\"table\":[{\"cells\":{\"fill\":{\"color\":\"#EBF0F8\"},\"line\":{\"color\":\"white\"}},\"header\":{\"fill\":{\"color\":\"#C8D4E3\"},\"line\":{\"color\":\"white\"}},\"type\":\"table\"}],\"barpolar\":[{\"marker\":{\"line\":{\"color\":\"#E5ECF6\",\"width\":0.5},\"pattern\":{\"fillmode\":\"overlay\",\"size\":10,\"solidity\":0.2}},\"type\":\"barpolar\"}],\"pie\":[{\"automargin\":true,\"type\":\"pie\"}]},\"layout\":{\"autotypenumbers\":\"strict\",\"colorway\":[\"#636efa\",\"#EF553B\",\"#00cc96\",\"#ab63fa\",\"#FFA15A\",\"#19d3f3\",\"#FF6692\",\"#B6E880\",\"#FF97FF\",\"#FECB52\"],\"font\":{\"color\":\"#2a3f5f\"},\"hovermode\":\"closest\",\"hoverlabel\":{\"align\":\"left\"},\"paper_bgcolor\":\"white\",\"plot_bgcolor\":\"#E5ECF6\",\"polar\":{\"bgcolor\":\"#E5ECF6\",\"angularaxis\":{\"gridcolor\":\"white\",\"linecolor\":\"white\",\"ticks\":\"\"},\"radialaxis\":{\"gridcolor\":\"white\",\"linecolor\":\"white\",\"ticks\":\"\"}},\"ternary\":{\"bgcolor\":\"#E5ECF6\",\"aaxis\":{\"gridcolor\":\"white\",\"linecolor\":\"white\",\"ticks\":\"\"},\"baxis\":{\"gridcolor\":\"white\",\"linecolor\":\"white\",\"ticks\":\"\"},\"caxis\":{\"gridcolor\":\"white\",\"linecolor\":\"white\",\"ticks\":\"\"}},\"coloraxis\":{\"colorbar\":{\"outlinewidth\":0,\"ticks\":\"\"}},\"colorscale\":{\"sequential\":[[0.0,\"#0d0887\"],[0.1111111111111111,\"#46039f\"],[0.2222222222222222,\"#7201a8\"],[0.3333333333333333,\"#9c179e\"],[0.4444444444444444,\"#bd3786\"],[0.5555555555555556,\"#d8576b\"],[0.6666666666666666,\"#ed7953\"],[0.7777777777777778,\"#fb9f3a\"],[0.8888888888888888,\"#fdca26\"],[1.0,\"#f0f921\"]],\"sequentialminus\":[[0.0,\"#0d0887\"],[0.1111111111111111,\"#46039f\"],[0.2222222222222222,\"#7201a8\"],[0.3333333333333333,\"#9c179e\"],[0.4444444444444444,\"#bd3786\"],[0.5555555555555556,\"#d8576b\"],[0.6666666666666666,\"#ed7953\"],[0.7777777777777778,\"#fb9f3a\"],[0.8888888888888888,\"#fdca26\"],[1.0,\"#f0f921\"]],\"diverging\":[[0,\"#8e0152\"],[0.1,\"#c51b7d\"],[0.2,\"#de77ae\"],[0.3,\"#f1b6da\"],[0.4,\"#fde0ef\"],[0.5,\"#f7f7f7\"],[0.6,\"#e6f5d0\"],[0.7,\"#b8e186\"],[0.8,\"#7fbc41\"],[0.9,\"#4d9221\"],[1,\"#276419\"]]},\"xaxis\":{\"gridcolor\":\"white\",\"linecolor\":\"white\",\"ticks\":\"\",\"title\":{\"standoff\":15},\"zerolinecolor\":\"white\",\"automargin\":true,\"zerolinewidth\":2},\"yaxis\":{\"gridcolor\":\"white\",\"linecolor\":\"white\",\"ticks\":\"\",\"title\":{\"standoff\":15},\"zerolinecolor\":\"white\",\"automargin\":true,\"zerolinewidth\":2},\"scene\":{\"xaxis\":{\"backgroundcolor\":\"#E5ECF6\",\"gridcolor\":\"white\",\"linecolor\":\"white\",\"showbackground\":true,\"ticks\":\"\",\"zerolinecolor\":\"white\",\"gridwidth\":2},\"yaxis\":{\"backgroundcolor\":\"#E5ECF6\",\"gridcolor\":\"white\",\"linecolor\":\"white\",\"showbackground\":true,\"ticks\":\"\",\"zerolinecolor\":\"white\",\"gridwidth\":2},\"zaxis\":{\"backgroundcolor\":\"#E5ECF6\",\"gridcolor\":\"white\",\"linecolor\":\"white\",\"showbackground\":true,\"ticks\":\"\",\"zerolinecolor\":\"white\",\"gridwidth\":2}},\"shapedefaults\":{\"line\":{\"color\":\"#2a3f5f\"}},\"annotationdefaults\":{\"arrowcolor\":\"#2a3f5f\",\"arrowhead\":0,\"arrowwidth\":1},\"geo\":{\"bgcolor\":\"white\",\"landcolor\":\"#E5ECF6\",\"subunitcolor\":\"white\",\"showland\":true,\"showlakes\":true,\"lakecolor\":\"white\"},\"title\":{\"x\":0.05},\"mapbox\":{\"style\":\"light\"}}},\"xaxis\":{\"anchor\":\"y\",\"domain\":[0.0,1.0],\"title\":{\"text\":\"Dimensión 1 (t-SNE)\"}},\"yaxis\":{\"anchor\":\"x\",\"domain\":[0.0,1.0],\"title\":{\"text\":\"Dimensión 2 (t-SNE)\"}},\"legend\":{\"title\":{\"text\":\"color\"},\"tracegroupgap\":0},\"margin\":{\"t\":60},\"title\":{\"text\":\"Vecinos más Cercanos de 'cultura'\"},\"showlegend\":true},                        {\"responsive\": true}                    ).then(function(){\n",
              "                            \n",
              "var gd = document.getElementById('4aef1d39-743f-465d-a506-cb047ab2037b');\n",
              "var x = new MutationObserver(function (mutations, observer) {{\n",
              "        var display = window.getComputedStyle(gd).display;\n",
              "        if (!display || display === 'none') {{\n",
              "            console.log([gd, 'removed!']);\n",
              "            Plotly.purge(gd);\n",
              "            observer.disconnect();\n",
              "        }}\n",
              "}});\n",
              "\n",
              "// Listen for the removal of the full notebook cells\n",
              "var notebookContainer = gd.closest('#notebook-container');\n",
              "if (notebookContainer) {{\n",
              "    x.observe(notebookContainer, {childList: true});\n",
              "}}\n",
              "\n",
              "// Listen for the clearing of the current output cell\n",
              "var outputEl = gd.closest('.output');\n",
              "if (outputEl) {{\n",
              "    x.observe(outputEl, {childList: true});\n",
              "}}\n",
              "\n",
              "                        })                };                            </script>        </div>\n",
              "</body>\n",
              "</html>"
            ]
          },
          "metadata": {}
        },
        {
          "output_type": "display_data",
          "data": {
            "text/html": [
              "<html>\n",
              "<head><meta charset=\"utf-8\" /></head>\n",
              "<body>\n",
              "    <div>            <script src=\"https://cdnjs.cloudflare.com/ajax/libs/mathjax/2.7.5/MathJax.js?config=TeX-AMS-MML_SVG\"></script><script type=\"text/javascript\">if (window.MathJax && window.MathJax.Hub && window.MathJax.Hub.Config) {window.MathJax.Hub.Config({SVG: {font: \"STIX-Web\"}});}</script>                <script type=\"text/javascript\">window.PlotlyConfig = {MathJaxConfig: 'local'};</script>\n",
              "        <script charset=\"utf-8\" src=\"https://cdn.plot.ly/plotly-2.35.2.min.js\"></script>                <div id=\"ec532a64-4f9a-4c8e-a89f-0c4204eb0028\" class=\"plotly-graph-div\" style=\"height:525px; width:100%;\"></div>            <script type=\"text/javascript\">                                    window.PLOTLYENV=window.PLOTLYENV || {};                                    if (document.getElementById(\"ec532a64-4f9a-4c8e-a89f-0c4204eb0028\")) {                    Plotly.newPlot(                        \"ec532a64-4f9a-4c8e-a89f-0c4204eb0028\",                        [{\"hovertemplate\":\"color=Palabra Objetivo\\u003cbr\\u003ex=%{x}\\u003cbr\\u003ey=%{y}\\u003cbr\\u003etext=%{text}\\u003cextra\\u003e\\u003c\\u002fextra\\u003e\",\"legendgroup\":\"Palabra Objetivo\",\"marker\":{\"color\":\"red\",\"symbol\":\"circle\",\"size\":10},\"mode\":\"markers+text\",\"name\":\"Palabra Objetivo\",\"orientation\":\"v\",\"showlegend\":true,\"text\":[\"deportes\"],\"x\":[31.683075],\"xaxis\":\"x\",\"y\":[-26.351055],\"yaxis\":\"y\",\"type\":\"scatter\",\"textposition\":\"top center\"},{\"hovertemplate\":\"color=Vecino Cercano\\u003cbr\\u003ex=%{x}\\u003cbr\\u003ey=%{y}\\u003cbr\\u003etext=%{text}\\u003cextra\\u003e\\u003c\\u002fextra\\u003e\",\"legendgroup\":\"Vecino Cercano\",\"marker\":{\"color\":\"blue\",\"symbol\":\"circle\",\"size\":10},\"mode\":\"markers+text\",\"name\":\"Vecino Cercano\",\"orientation\":\"v\",\"showlegend\":true,\"text\":[\"deporte\",\"paneque\",\"alcocer\",\"moisés\",\"orexa\",\"xim\",\"godó\",\"surf\",\"comunicació\",\"impartida\"],\"x\":[12.072144,-15.070982,-28.897537,25.149395,-5.0704823,0.38809854,0.98373455,38.432747,-28.86009,-43.733643],\"xaxis\":\"x\",\"y\":[-5.5051246,-4.035335,26.207438,33.027416,46.450466,18.341187,-33.51305,6.090798,-29.462322,-0.0083746975],\"yaxis\":\"y\",\"type\":\"scatter\",\"textposition\":\"top center\"}],                        {\"template\":{\"data\":{\"histogram2dcontour\":[{\"type\":\"histogram2dcontour\",\"colorbar\":{\"outlinewidth\":0,\"ticks\":\"\"},\"colorscale\":[[0.0,\"#0d0887\"],[0.1111111111111111,\"#46039f\"],[0.2222222222222222,\"#7201a8\"],[0.3333333333333333,\"#9c179e\"],[0.4444444444444444,\"#bd3786\"],[0.5555555555555556,\"#d8576b\"],[0.6666666666666666,\"#ed7953\"],[0.7777777777777778,\"#fb9f3a\"],[0.8888888888888888,\"#fdca26\"],[1.0,\"#f0f921\"]]}],\"choropleth\":[{\"type\":\"choropleth\",\"colorbar\":{\"outlinewidth\":0,\"ticks\":\"\"}}],\"histogram2d\":[{\"type\":\"histogram2d\",\"colorbar\":{\"outlinewidth\":0,\"ticks\":\"\"},\"colorscale\":[[0.0,\"#0d0887\"],[0.1111111111111111,\"#46039f\"],[0.2222222222222222,\"#7201a8\"],[0.3333333333333333,\"#9c179e\"],[0.4444444444444444,\"#bd3786\"],[0.5555555555555556,\"#d8576b\"],[0.6666666666666666,\"#ed7953\"],[0.7777777777777778,\"#fb9f3a\"],[0.8888888888888888,\"#fdca26\"],[1.0,\"#f0f921\"]]}],\"heatmap\":[{\"type\":\"heatmap\",\"colorbar\":{\"outlinewidth\":0,\"ticks\":\"\"},\"colorscale\":[[0.0,\"#0d0887\"],[0.1111111111111111,\"#46039f\"],[0.2222222222222222,\"#7201a8\"],[0.3333333333333333,\"#9c179e\"],[0.4444444444444444,\"#bd3786\"],[0.5555555555555556,\"#d8576b\"],[0.6666666666666666,\"#ed7953\"],[0.7777777777777778,\"#fb9f3a\"],[0.8888888888888888,\"#fdca26\"],[1.0,\"#f0f921\"]]}],\"heatmapgl\":[{\"type\":\"heatmapgl\",\"colorbar\":{\"outlinewidth\":0,\"ticks\":\"\"},\"colorscale\":[[0.0,\"#0d0887\"],[0.1111111111111111,\"#46039f\"],[0.2222222222222222,\"#7201a8\"],[0.3333333333333333,\"#9c179e\"],[0.4444444444444444,\"#bd3786\"],[0.5555555555555556,\"#d8576b\"],[0.6666666666666666,\"#ed7953\"],[0.7777777777777778,\"#fb9f3a\"],[0.8888888888888888,\"#fdca26\"],[1.0,\"#f0f921\"]]}],\"contourcarpet\":[{\"type\":\"contourcarpet\",\"colorbar\":{\"outlinewidth\":0,\"ticks\":\"\"}}],\"contour\":[{\"type\":\"contour\",\"colorbar\":{\"outlinewidth\":0,\"ticks\":\"\"},\"colorscale\":[[0.0,\"#0d0887\"],[0.1111111111111111,\"#46039f\"],[0.2222222222222222,\"#7201a8\"],[0.3333333333333333,\"#9c179e\"],[0.4444444444444444,\"#bd3786\"],[0.5555555555555556,\"#d8576b\"],[0.6666666666666666,\"#ed7953\"],[0.7777777777777778,\"#fb9f3a\"],[0.8888888888888888,\"#fdca26\"],[1.0,\"#f0f921\"]]}],\"surface\":[{\"type\":\"surface\",\"colorbar\":{\"outlinewidth\":0,\"ticks\":\"\"},\"colorscale\":[[0.0,\"#0d0887\"],[0.1111111111111111,\"#46039f\"],[0.2222222222222222,\"#7201a8\"],[0.3333333333333333,\"#9c179e\"],[0.4444444444444444,\"#bd3786\"],[0.5555555555555556,\"#d8576b\"],[0.6666666666666666,\"#ed7953\"],[0.7777777777777778,\"#fb9f3a\"],[0.8888888888888888,\"#fdca26\"],[1.0,\"#f0f921\"]]}],\"mesh3d\":[{\"type\":\"mesh3d\",\"colorbar\":{\"outlinewidth\":0,\"ticks\":\"\"}}],\"scatter\":[{\"fillpattern\":{\"fillmode\":\"overlay\",\"size\":10,\"solidity\":0.2},\"type\":\"scatter\"}],\"parcoords\":[{\"type\":\"parcoords\",\"line\":{\"colorbar\":{\"outlinewidth\":0,\"ticks\":\"\"}}}],\"scatterpolargl\":[{\"type\":\"scatterpolargl\",\"marker\":{\"colorbar\":{\"outlinewidth\":0,\"ticks\":\"\"}}}],\"bar\":[{\"error_x\":{\"color\":\"#2a3f5f\"},\"error_y\":{\"color\":\"#2a3f5f\"},\"marker\":{\"line\":{\"color\":\"#E5ECF6\",\"width\":0.5},\"pattern\":{\"fillmode\":\"overlay\",\"size\":10,\"solidity\":0.2}},\"type\":\"bar\"}],\"scattergeo\":[{\"type\":\"scattergeo\",\"marker\":{\"colorbar\":{\"outlinewidth\":0,\"ticks\":\"\"}}}],\"scatterpolar\":[{\"type\":\"scatterpolar\",\"marker\":{\"colorbar\":{\"outlinewidth\":0,\"ticks\":\"\"}}}],\"histogram\":[{\"marker\":{\"pattern\":{\"fillmode\":\"overlay\",\"size\":10,\"solidity\":0.2}},\"type\":\"histogram\"}],\"scattergl\":[{\"type\":\"scattergl\",\"marker\":{\"colorbar\":{\"outlinewidth\":0,\"ticks\":\"\"}}}],\"scatter3d\":[{\"type\":\"scatter3d\",\"line\":{\"colorbar\":{\"outlinewidth\":0,\"ticks\":\"\"}},\"marker\":{\"colorbar\":{\"outlinewidth\":0,\"ticks\":\"\"}}}],\"scattermapbox\":[{\"type\":\"scattermapbox\",\"marker\":{\"colorbar\":{\"outlinewidth\":0,\"ticks\":\"\"}}}],\"scatterternary\":[{\"type\":\"scatterternary\",\"marker\":{\"colorbar\":{\"outlinewidth\":0,\"ticks\":\"\"}}}],\"scattercarpet\":[{\"type\":\"scattercarpet\",\"marker\":{\"colorbar\":{\"outlinewidth\":0,\"ticks\":\"\"}}}],\"carpet\":[{\"aaxis\":{\"endlinecolor\":\"#2a3f5f\",\"gridcolor\":\"white\",\"linecolor\":\"white\",\"minorgridcolor\":\"white\",\"startlinecolor\":\"#2a3f5f\"},\"baxis\":{\"endlinecolor\":\"#2a3f5f\",\"gridcolor\":\"white\",\"linecolor\":\"white\",\"minorgridcolor\":\"white\",\"startlinecolor\":\"#2a3f5f\"},\"type\":\"carpet\"}],\"table\":[{\"cells\":{\"fill\":{\"color\":\"#EBF0F8\"},\"line\":{\"color\":\"white\"}},\"header\":{\"fill\":{\"color\":\"#C8D4E3\"},\"line\":{\"color\":\"white\"}},\"type\":\"table\"}],\"barpolar\":[{\"marker\":{\"line\":{\"color\":\"#E5ECF6\",\"width\":0.5},\"pattern\":{\"fillmode\":\"overlay\",\"size\":10,\"solidity\":0.2}},\"type\":\"barpolar\"}],\"pie\":[{\"automargin\":true,\"type\":\"pie\"}]},\"layout\":{\"autotypenumbers\":\"strict\",\"colorway\":[\"#636efa\",\"#EF553B\",\"#00cc96\",\"#ab63fa\",\"#FFA15A\",\"#19d3f3\",\"#FF6692\",\"#B6E880\",\"#FF97FF\",\"#FECB52\"],\"font\":{\"color\":\"#2a3f5f\"},\"hovermode\":\"closest\",\"hoverlabel\":{\"align\":\"left\"},\"paper_bgcolor\":\"white\",\"plot_bgcolor\":\"#E5ECF6\",\"polar\":{\"bgcolor\":\"#E5ECF6\",\"angularaxis\":{\"gridcolor\":\"white\",\"linecolor\":\"white\",\"ticks\":\"\"},\"radialaxis\":{\"gridcolor\":\"white\",\"linecolor\":\"white\",\"ticks\":\"\"}},\"ternary\":{\"bgcolor\":\"#E5ECF6\",\"aaxis\":{\"gridcolor\":\"white\",\"linecolor\":\"white\",\"ticks\":\"\"},\"baxis\":{\"gridcolor\":\"white\",\"linecolor\":\"white\",\"ticks\":\"\"},\"caxis\":{\"gridcolor\":\"white\",\"linecolor\":\"white\",\"ticks\":\"\"}},\"coloraxis\":{\"colorbar\":{\"outlinewidth\":0,\"ticks\":\"\"}},\"colorscale\":{\"sequential\":[[0.0,\"#0d0887\"],[0.1111111111111111,\"#46039f\"],[0.2222222222222222,\"#7201a8\"],[0.3333333333333333,\"#9c179e\"],[0.4444444444444444,\"#bd3786\"],[0.5555555555555556,\"#d8576b\"],[0.6666666666666666,\"#ed7953\"],[0.7777777777777778,\"#fb9f3a\"],[0.8888888888888888,\"#fdca26\"],[1.0,\"#f0f921\"]],\"sequentialminus\":[[0.0,\"#0d0887\"],[0.1111111111111111,\"#46039f\"],[0.2222222222222222,\"#7201a8\"],[0.3333333333333333,\"#9c179e\"],[0.4444444444444444,\"#bd3786\"],[0.5555555555555556,\"#d8576b\"],[0.6666666666666666,\"#ed7953\"],[0.7777777777777778,\"#fb9f3a\"],[0.8888888888888888,\"#fdca26\"],[1.0,\"#f0f921\"]],\"diverging\":[[0,\"#8e0152\"],[0.1,\"#c51b7d\"],[0.2,\"#de77ae\"],[0.3,\"#f1b6da\"],[0.4,\"#fde0ef\"],[0.5,\"#f7f7f7\"],[0.6,\"#e6f5d0\"],[0.7,\"#b8e186\"],[0.8,\"#7fbc41\"],[0.9,\"#4d9221\"],[1,\"#276419\"]]},\"xaxis\":{\"gridcolor\":\"white\",\"linecolor\":\"white\",\"ticks\":\"\",\"title\":{\"standoff\":15},\"zerolinecolor\":\"white\",\"automargin\":true,\"zerolinewidth\":2},\"yaxis\":{\"gridcolor\":\"white\",\"linecolor\":\"white\",\"ticks\":\"\",\"title\":{\"standoff\":15},\"zerolinecolor\":\"white\",\"automargin\":true,\"zerolinewidth\":2},\"scene\":{\"xaxis\":{\"backgroundcolor\":\"#E5ECF6\",\"gridcolor\":\"white\",\"linecolor\":\"white\",\"showbackground\":true,\"ticks\":\"\",\"zerolinecolor\":\"white\",\"gridwidth\":2},\"yaxis\":{\"backgroundcolor\":\"#E5ECF6\",\"gridcolor\":\"white\",\"linecolor\":\"white\",\"showbackground\":true,\"ticks\":\"\",\"zerolinecolor\":\"white\",\"gridwidth\":2},\"zaxis\":{\"backgroundcolor\":\"#E5ECF6\",\"gridcolor\":\"white\",\"linecolor\":\"white\",\"showbackground\":true,\"ticks\":\"\",\"zerolinecolor\":\"white\",\"gridwidth\":2}},\"shapedefaults\":{\"line\":{\"color\":\"#2a3f5f\"}},\"annotationdefaults\":{\"arrowcolor\":\"#2a3f5f\",\"arrowhead\":0,\"arrowwidth\":1},\"geo\":{\"bgcolor\":\"white\",\"landcolor\":\"#E5ECF6\",\"subunitcolor\":\"white\",\"showland\":true,\"showlakes\":true,\"lakecolor\":\"white\"},\"title\":{\"x\":0.05},\"mapbox\":{\"style\":\"light\"}}},\"xaxis\":{\"anchor\":\"y\",\"domain\":[0.0,1.0],\"title\":{\"text\":\"Dimensión 1 (t-SNE)\"}},\"yaxis\":{\"anchor\":\"x\",\"domain\":[0.0,1.0],\"title\":{\"text\":\"Dimensión 2 (t-SNE)\"}},\"legend\":{\"title\":{\"text\":\"color\"},\"tracegroupgap\":0},\"margin\":{\"t\":60},\"title\":{\"text\":\"Vecinos más Cercanos de 'deportes'\"},\"showlegend\":true},                        {\"responsive\": true}                    ).then(function(){\n",
              "                            \n",
              "var gd = document.getElementById('ec532a64-4f9a-4c8e-a89f-0c4204eb0028');\n",
              "var x = new MutationObserver(function (mutations, observer) {{\n",
              "        var display = window.getComputedStyle(gd).display;\n",
              "        if (!display || display === 'none') {{\n",
              "            console.log([gd, 'removed!']);\n",
              "            Plotly.purge(gd);\n",
              "            observer.disconnect();\n",
              "        }}\n",
              "}});\n",
              "\n",
              "// Listen for the removal of the full notebook cells\n",
              "var notebookContainer = gd.closest('#notebook-container');\n",
              "if (notebookContainer) {{\n",
              "    x.observe(notebookContainer, {childList: true});\n",
              "}}\n",
              "\n",
              "// Listen for the clearing of the current output cell\n",
              "var outputEl = gd.closest('.output');\n",
              "if (outputEl) {{\n",
              "    x.observe(outputEl, {childList: true});\n",
              "}}\n",
              "\n",
              "                        })                };                            </script>        </div>\n",
              "</body>\n",
              "</html>"
            ]
          },
          "metadata": {}
        },
        {
          "output_type": "display_data",
          "data": {
            "text/html": [
              "<html>\n",
              "<head><meta charset=\"utf-8\" /></head>\n",
              "<body>\n",
              "    <div>            <script src=\"https://cdnjs.cloudflare.com/ajax/libs/mathjax/2.7.5/MathJax.js?config=TeX-AMS-MML_SVG\"></script><script type=\"text/javascript\">if (window.MathJax && window.MathJax.Hub && window.MathJax.Hub.Config) {window.MathJax.Hub.Config({SVG: {font: \"STIX-Web\"}});}</script>                <script type=\"text/javascript\">window.PlotlyConfig = {MathJaxConfig: 'local'};</script>\n",
              "        <script charset=\"utf-8\" src=\"https://cdn.plot.ly/plotly-2.35.2.min.js\"></script>                <div id=\"d02cd725-a651-4a37-ba3e-e040e454b122\" class=\"plotly-graph-div\" style=\"height:525px; width:100%;\"></div>            <script type=\"text/javascript\">                                    window.PLOTLYENV=window.PLOTLYENV || {};                                    if (document.getElementById(\"d02cd725-a651-4a37-ba3e-e040e454b122\")) {                    Plotly.newPlot(                        \"d02cd725-a651-4a37-ba3e-e040e454b122\",                        [{\"hovertemplate\":\"color=Palabra Objetivo\\u003cbr\\u003ex=%{x}\\u003cbr\\u003ey=%{y}\\u003cbr\\u003etext=%{text}\\u003cextra\\u003e\\u003c\\u002fextra\\u003e\",\"legendgroup\":\"Palabra Objetivo\",\"marker\":{\"color\":\"red\",\"symbol\":\"circle\",\"size\":10},\"mode\":\"markers+text\",\"name\":\"Palabra Objetivo\",\"orientation\":\"v\",\"showlegend\":true,\"text\":[\"economía\"],\"x\":[20.849966],\"xaxis\":\"x\",\"y\":[-28.79665],\"yaxis\":\"y\",\"type\":\"scatter\",\"textposition\":\"top center\"},{\"hovertemplate\":\"color=Vecino Cercano\\u003cbr\\u003ex=%{x}\\u003cbr\\u003ey=%{y}\\u003cbr\\u003etext=%{text}\\u003cextra\\u003e\\u003c\\u002fextra\\u003e\",\"legendgroup\":\"Vecino Cercano\",\"marker\":{\"color\":\"blue\",\"symbol\":\"circle\",\"size\":10},\"mode\":\"markers+text\",\"name\":\"Vecino Cercano\",\"orientation\":\"v\",\"showlegend\":true,\"text\":[\"competitividad\",\"desaceleración\",\"tejido\",\"valdeolivas\",\"revierte\",\"recaudatoria\",\"liberalizar\",\"rentista\",\"incalculables\",\"reactivarse\"],\"x\":[69.62435,42.056004,-62.318623,-55.01932,-19.022058,26.81323,20.807049,-11.843143,68.07953,-21.730999],\"xaxis\":\"x\",\"y\":[11.172042,59.037025,-28.17307,27.065998,-5.5363536,-76.9583,16.013441,53.436703,-39.456593,-59.28721],\"yaxis\":\"y\",\"type\":\"scatter\",\"textposition\":\"top center\"}],                        {\"template\":{\"data\":{\"histogram2dcontour\":[{\"type\":\"histogram2dcontour\",\"colorbar\":{\"outlinewidth\":0,\"ticks\":\"\"},\"colorscale\":[[0.0,\"#0d0887\"],[0.1111111111111111,\"#46039f\"],[0.2222222222222222,\"#7201a8\"],[0.3333333333333333,\"#9c179e\"],[0.4444444444444444,\"#bd3786\"],[0.5555555555555556,\"#d8576b\"],[0.6666666666666666,\"#ed7953\"],[0.7777777777777778,\"#fb9f3a\"],[0.8888888888888888,\"#fdca26\"],[1.0,\"#f0f921\"]]}],\"choropleth\":[{\"type\":\"choropleth\",\"colorbar\":{\"outlinewidth\":0,\"ticks\":\"\"}}],\"histogram2d\":[{\"type\":\"histogram2d\",\"colorbar\":{\"outlinewidth\":0,\"ticks\":\"\"},\"colorscale\":[[0.0,\"#0d0887\"],[0.1111111111111111,\"#46039f\"],[0.2222222222222222,\"#7201a8\"],[0.3333333333333333,\"#9c179e\"],[0.4444444444444444,\"#bd3786\"],[0.5555555555555556,\"#d8576b\"],[0.6666666666666666,\"#ed7953\"],[0.7777777777777778,\"#fb9f3a\"],[0.8888888888888888,\"#fdca26\"],[1.0,\"#f0f921\"]]}],\"heatmap\":[{\"type\":\"heatmap\",\"colorbar\":{\"outlinewidth\":0,\"ticks\":\"\"},\"colorscale\":[[0.0,\"#0d0887\"],[0.1111111111111111,\"#46039f\"],[0.2222222222222222,\"#7201a8\"],[0.3333333333333333,\"#9c179e\"],[0.4444444444444444,\"#bd3786\"],[0.5555555555555556,\"#d8576b\"],[0.6666666666666666,\"#ed7953\"],[0.7777777777777778,\"#fb9f3a\"],[0.8888888888888888,\"#fdca26\"],[1.0,\"#f0f921\"]]}],\"heatmapgl\":[{\"type\":\"heatmapgl\",\"colorbar\":{\"outlinewidth\":0,\"ticks\":\"\"},\"colorscale\":[[0.0,\"#0d0887\"],[0.1111111111111111,\"#46039f\"],[0.2222222222222222,\"#7201a8\"],[0.3333333333333333,\"#9c179e\"],[0.4444444444444444,\"#bd3786\"],[0.5555555555555556,\"#d8576b\"],[0.6666666666666666,\"#ed7953\"],[0.7777777777777778,\"#fb9f3a\"],[0.8888888888888888,\"#fdca26\"],[1.0,\"#f0f921\"]]}],\"contourcarpet\":[{\"type\":\"contourcarpet\",\"colorbar\":{\"outlinewidth\":0,\"ticks\":\"\"}}],\"contour\":[{\"type\":\"contour\",\"colorbar\":{\"outlinewidth\":0,\"ticks\":\"\"},\"colorscale\":[[0.0,\"#0d0887\"],[0.1111111111111111,\"#46039f\"],[0.2222222222222222,\"#7201a8\"],[0.3333333333333333,\"#9c179e\"],[0.4444444444444444,\"#bd3786\"],[0.5555555555555556,\"#d8576b\"],[0.6666666666666666,\"#ed7953\"],[0.7777777777777778,\"#fb9f3a\"],[0.8888888888888888,\"#fdca26\"],[1.0,\"#f0f921\"]]}],\"surface\":[{\"type\":\"surface\",\"colorbar\":{\"outlinewidth\":0,\"ticks\":\"\"},\"colorscale\":[[0.0,\"#0d0887\"],[0.1111111111111111,\"#46039f\"],[0.2222222222222222,\"#7201a8\"],[0.3333333333333333,\"#9c179e\"],[0.4444444444444444,\"#bd3786\"],[0.5555555555555556,\"#d8576b\"],[0.6666666666666666,\"#ed7953\"],[0.7777777777777778,\"#fb9f3a\"],[0.8888888888888888,\"#fdca26\"],[1.0,\"#f0f921\"]]}],\"mesh3d\":[{\"type\":\"mesh3d\",\"colorbar\":{\"outlinewidth\":0,\"ticks\":\"\"}}],\"scatter\":[{\"fillpattern\":{\"fillmode\":\"overlay\",\"size\":10,\"solidity\":0.2},\"type\":\"scatter\"}],\"parcoords\":[{\"type\":\"parcoords\",\"line\":{\"colorbar\":{\"outlinewidth\":0,\"ticks\":\"\"}}}],\"scatterpolargl\":[{\"type\":\"scatterpolargl\",\"marker\":{\"colorbar\":{\"outlinewidth\":0,\"ticks\":\"\"}}}],\"bar\":[{\"error_x\":{\"color\":\"#2a3f5f\"},\"error_y\":{\"color\":\"#2a3f5f\"},\"marker\":{\"line\":{\"color\":\"#E5ECF6\",\"width\":0.5},\"pattern\":{\"fillmode\":\"overlay\",\"size\":10,\"solidity\":0.2}},\"type\":\"bar\"}],\"scattergeo\":[{\"type\":\"scattergeo\",\"marker\":{\"colorbar\":{\"outlinewidth\":0,\"ticks\":\"\"}}}],\"scatterpolar\":[{\"type\":\"scatterpolar\",\"marker\":{\"colorbar\":{\"outlinewidth\":0,\"ticks\":\"\"}}}],\"histogram\":[{\"marker\":{\"pattern\":{\"fillmode\":\"overlay\",\"size\":10,\"solidity\":0.2}},\"type\":\"histogram\"}],\"scattergl\":[{\"type\":\"scattergl\",\"marker\":{\"colorbar\":{\"outlinewidth\":0,\"ticks\":\"\"}}}],\"scatter3d\":[{\"type\":\"scatter3d\",\"line\":{\"colorbar\":{\"outlinewidth\":0,\"ticks\":\"\"}},\"marker\":{\"colorbar\":{\"outlinewidth\":0,\"ticks\":\"\"}}}],\"scattermapbox\":[{\"type\":\"scattermapbox\",\"marker\":{\"colorbar\":{\"outlinewidth\":0,\"ticks\":\"\"}}}],\"scatterternary\":[{\"type\":\"scatterternary\",\"marker\":{\"colorbar\":{\"outlinewidth\":0,\"ticks\":\"\"}}}],\"scattercarpet\":[{\"type\":\"scattercarpet\",\"marker\":{\"colorbar\":{\"outlinewidth\":0,\"ticks\":\"\"}}}],\"carpet\":[{\"aaxis\":{\"endlinecolor\":\"#2a3f5f\",\"gridcolor\":\"white\",\"linecolor\":\"white\",\"minorgridcolor\":\"white\",\"startlinecolor\":\"#2a3f5f\"},\"baxis\":{\"endlinecolor\":\"#2a3f5f\",\"gridcolor\":\"white\",\"linecolor\":\"white\",\"minorgridcolor\":\"white\",\"startlinecolor\":\"#2a3f5f\"},\"type\":\"carpet\"}],\"table\":[{\"cells\":{\"fill\":{\"color\":\"#EBF0F8\"},\"line\":{\"color\":\"white\"}},\"header\":{\"fill\":{\"color\":\"#C8D4E3\"},\"line\":{\"color\":\"white\"}},\"type\":\"table\"}],\"barpolar\":[{\"marker\":{\"line\":{\"color\":\"#E5ECF6\",\"width\":0.5},\"pattern\":{\"fillmode\":\"overlay\",\"size\":10,\"solidity\":0.2}},\"type\":\"barpolar\"}],\"pie\":[{\"automargin\":true,\"type\":\"pie\"}]},\"layout\":{\"autotypenumbers\":\"strict\",\"colorway\":[\"#636efa\",\"#EF553B\",\"#00cc96\",\"#ab63fa\",\"#FFA15A\",\"#19d3f3\",\"#FF6692\",\"#B6E880\",\"#FF97FF\",\"#FECB52\"],\"font\":{\"color\":\"#2a3f5f\"},\"hovermode\":\"closest\",\"hoverlabel\":{\"align\":\"left\"},\"paper_bgcolor\":\"white\",\"plot_bgcolor\":\"#E5ECF6\",\"polar\":{\"bgcolor\":\"#E5ECF6\",\"angularaxis\":{\"gridcolor\":\"white\",\"linecolor\":\"white\",\"ticks\":\"\"},\"radialaxis\":{\"gridcolor\":\"white\",\"linecolor\":\"white\",\"ticks\":\"\"}},\"ternary\":{\"bgcolor\":\"#E5ECF6\",\"aaxis\":{\"gridcolor\":\"white\",\"linecolor\":\"white\",\"ticks\":\"\"},\"baxis\":{\"gridcolor\":\"white\",\"linecolor\":\"white\",\"ticks\":\"\"},\"caxis\":{\"gridcolor\":\"white\",\"linecolor\":\"white\",\"ticks\":\"\"}},\"coloraxis\":{\"colorbar\":{\"outlinewidth\":0,\"ticks\":\"\"}},\"colorscale\":{\"sequential\":[[0.0,\"#0d0887\"],[0.1111111111111111,\"#46039f\"],[0.2222222222222222,\"#7201a8\"],[0.3333333333333333,\"#9c179e\"],[0.4444444444444444,\"#bd3786\"],[0.5555555555555556,\"#d8576b\"],[0.6666666666666666,\"#ed7953\"],[0.7777777777777778,\"#fb9f3a\"],[0.8888888888888888,\"#fdca26\"],[1.0,\"#f0f921\"]],\"sequentialminus\":[[0.0,\"#0d0887\"],[0.1111111111111111,\"#46039f\"],[0.2222222222222222,\"#7201a8\"],[0.3333333333333333,\"#9c179e\"],[0.4444444444444444,\"#bd3786\"],[0.5555555555555556,\"#d8576b\"],[0.6666666666666666,\"#ed7953\"],[0.7777777777777778,\"#fb9f3a\"],[0.8888888888888888,\"#fdca26\"],[1.0,\"#f0f921\"]],\"diverging\":[[0,\"#8e0152\"],[0.1,\"#c51b7d\"],[0.2,\"#de77ae\"],[0.3,\"#f1b6da\"],[0.4,\"#fde0ef\"],[0.5,\"#f7f7f7\"],[0.6,\"#e6f5d0\"],[0.7,\"#b8e186\"],[0.8,\"#7fbc41\"],[0.9,\"#4d9221\"],[1,\"#276419\"]]},\"xaxis\":{\"gridcolor\":\"white\",\"linecolor\":\"white\",\"ticks\":\"\",\"title\":{\"standoff\":15},\"zerolinecolor\":\"white\",\"automargin\":true,\"zerolinewidth\":2},\"yaxis\":{\"gridcolor\":\"white\",\"linecolor\":\"white\",\"ticks\":\"\",\"title\":{\"standoff\":15},\"zerolinecolor\":\"white\",\"automargin\":true,\"zerolinewidth\":2},\"scene\":{\"xaxis\":{\"backgroundcolor\":\"#E5ECF6\",\"gridcolor\":\"white\",\"linecolor\":\"white\",\"showbackground\":true,\"ticks\":\"\",\"zerolinecolor\":\"white\",\"gridwidth\":2},\"yaxis\":{\"backgroundcolor\":\"#E5ECF6\",\"gridcolor\":\"white\",\"linecolor\":\"white\",\"showbackground\":true,\"ticks\":\"\",\"zerolinecolor\":\"white\",\"gridwidth\":2},\"zaxis\":{\"backgroundcolor\":\"#E5ECF6\",\"gridcolor\":\"white\",\"linecolor\":\"white\",\"showbackground\":true,\"ticks\":\"\",\"zerolinecolor\":\"white\",\"gridwidth\":2}},\"shapedefaults\":{\"line\":{\"color\":\"#2a3f5f\"}},\"annotationdefaults\":{\"arrowcolor\":\"#2a3f5f\",\"arrowhead\":0,\"arrowwidth\":1},\"geo\":{\"bgcolor\":\"white\",\"landcolor\":\"#E5ECF6\",\"subunitcolor\":\"white\",\"showland\":true,\"showlakes\":true,\"lakecolor\":\"white\"},\"title\":{\"x\":0.05},\"mapbox\":{\"style\":\"light\"}}},\"xaxis\":{\"anchor\":\"y\",\"domain\":[0.0,1.0],\"title\":{\"text\":\"Dimensión 1 (t-SNE)\"}},\"yaxis\":{\"anchor\":\"x\",\"domain\":[0.0,1.0],\"title\":{\"text\":\"Dimensión 2 (t-SNE)\"}},\"legend\":{\"title\":{\"text\":\"color\"},\"tracegroupgap\":0},\"margin\":{\"t\":60},\"title\":{\"text\":\"Vecinos más Cercanos de 'economía'\"},\"showlegend\":true},                        {\"responsive\": true}                    ).then(function(){\n",
              "                            \n",
              "var gd = document.getElementById('d02cd725-a651-4a37-ba3e-e040e454b122');\n",
              "var x = new MutationObserver(function (mutations, observer) {{\n",
              "        var display = window.getComputedStyle(gd).display;\n",
              "        if (!display || display === 'none') {{\n",
              "            console.log([gd, 'removed!']);\n",
              "            Plotly.purge(gd);\n",
              "            observer.disconnect();\n",
              "        }}\n",
              "}});\n",
              "\n",
              "// Listen for the removal of the full notebook cells\n",
              "var notebookContainer = gd.closest('#notebook-container');\n",
              "if (notebookContainer) {{\n",
              "    x.observe(notebookContainer, {childList: true});\n",
              "}}\n",
              "\n",
              "// Listen for the clearing of the current output cell\n",
              "var outputEl = gd.closest('.output');\n",
              "if (outputEl) {{\n",
              "    x.observe(outputEl, {childList: true});\n",
              "}}\n",
              "\n",
              "                        })                };                            </script>        </div>\n",
              "</body>\n",
              "</html>"
            ]
          },
          "metadata": {}
        }
      ]
    },
    {
      "cell_type": "markdown",
      "source": [
        "**Comentario:** A partir de los gráficos se puede evidenciar la formación de \"clusters\" o agrupaciones de palabras, donde los términos con significados o contextos similares aparecen unos cerca de otros. Se observa islas temáticas bien definidas en los casos donde las palabras objetivos son *diputados* o *economía*. Esto puede deberse a que la mayoría de las noticias del dataset están relacionadas a política o economía en general, lo que de cierta manera afecta al modelo a generar una estructura semántica coherente en el espacio vectorial respecto a estos temas."
      ],
      "metadata": {
        "id": "vU_IwxNEVFoG"
      }
    },
    {
      "cell_type": "markdown",
      "source": [
        "* **Obtener conclusiones.**"
      ],
      "metadata": {
        "id": "lu2gr0D-ZADd"
      }
    },
    {
      "cell_type": "markdown",
      "source": [
        "1. A partir del ejercicio, se evidencia que la calidad y cantidad del dataset son los factores más determinantes para el éxito del modelo. Asimismo, la implementación de un pipeline de preprocesamiento específico para el idioma (*spanish*), utilizando NLTK, es fundamental para normalizar el vocabulario y consolidar el significado de las palabras.\n",
        "\n",
        "2. Se construyó un espacio vectorial donde las palabras son vectores que codifican significado, es decir, que la distancia entre estos representa una similitud semántica.\n",
        "\n",
        "3. Se validó el modelo y la calidad de los embeddings a partir de la convergencia de la función de pérdida durante el entrenamiento, evaluando la lógica de los vecinos más cercanos para términos de interés, comprobando la capacidad del modelo en relacionar palabras a través de analogías y confirmar la estructura de clusters temáticos mediante t-SNE."
      ],
      "metadata": {
        "id": "COP1fqR6T2M2"
      }
    }
  ]
}
